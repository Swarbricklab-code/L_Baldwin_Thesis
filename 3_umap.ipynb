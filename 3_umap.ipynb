{
 "cells": [
  {
   "cell_type": "code",
   "execution_count": null,
   "metadata": {},
   "outputs": [],
   "source": [
    "# Script for the plotting of clustered single cell RNA seq data\n",
    "# By Louise Baldwin, based on scripts from Sergio Erdal Irac\n",
    "# takes clustered merged h5ad as input. \n",
    "\n",
    "###################\n",
    "# Set up\n",
    "###################\n",
    "\n",
    "# import packages\n",
    "import numpy as np\n",
    "import pandas as pd\n",
    "import scanpy as sc\n",
    "import os\n",
    "import seaborn as sns\n",
    "import matplotlib.pyplot as plt\n",
    "from matplotlib import rcParams\n",
    "from matplotlib.pyplot import rc_context\n",
    "\n",
    "# directories\n",
    "os.chdir(\"/share/ScratchGeneral/loubal/projects/MSC/mouse-single-cell\")\n",
    "in_file = (\"data/processed/merged_withscrub.h5ad\")\n",
    "results_file = (\"data/processed/clustered_merged_umap.h5ad\")\n",
    "figdir = (\"outs/3_umap/figures/\")\n",
    "tabdir = (\"outs/3_umap/tables/\")\n",
    "os.makedirs(figdir, exist_ok=True)\n",
    "os.makedirs(tabdir, exist_ok=True)\n",
    "\n",
    "# set parameters for scanpy\n",
    "# verbosity: errors (0), warnings (1), info (2), hints (3), detailed traceback (4)\n",
    "# change default figdir to desired figdir\n",
    "sc.settings.verbosity = 2            \n",
    "sc.logging.print_header()\n",
    "sc.settings.set_figure_params(dpi=150, facecolor='white')\n",
    "#sc.set_figure_params(facecolor='white', color_map=\"viridis\")\n",
    "#sc.settings.figdir='/share/ScratchGeneral/loubal/projects/MSC/mouse-single-cell/outs/QC/figures/'\n",
    "sc.settings.figdir=figdir\n"
   ]
  },
  {
   "cell_type": "code",
   "execution_count": null,
   "metadata": {},
   "outputs": [],
   "source": [
    "# read in file\n",
    "adata=sc.read_h5ad(in_file)\n",
    "adata"
   ]
  },
  {
   "cell_type": "code",
   "execution_count": null,
   "metadata": {},
   "outputs": [],
   "source": [
    "adata.uns['log1p'][\"base\"] = None"
   ]
  },
  {
   "cell_type": "code",
   "execution_count": null,
   "metadata": {},
   "outputs": [],
   "source": [
    "sc.pl.umap(adata, color=['leiden','ReactionID','Treatment','Tissue','Model'], size=1, \n",
    " show=True, add_outline=True,  frameon=False, ncols=2, wspace=0.5, title='leiden_0.1', save='umap.png')\n",
    " "
   ]
  },
  {
   "cell_type": "code",
   "execution_count": null,
   "metadata": {},
   "outputs": [],
   "source": [
    "sc.pl.umap(adata, color=\"leiden\", frameon=False, legend_loc=\"on data\")"
   ]
  },
  {
   "cell_type": "code",
   "execution_count": null,
   "metadata": {},
   "outputs": [],
   "source": [
    "#change resolution to 0.3\n",
    "sc.tl.leiden(adata, resolution=0.3, key_added='leiden_0.3', random_state=10)"
   ]
  },
  {
   "cell_type": "code",
   "execution_count": null,
   "metadata": {},
   "outputs": [],
   "source": [
    "#plot new resolution clustering\n",
    "sc.pl.umap(adata, color=['leiden_0.3'], size=1,\n",
    "add_outline=True,  frameon=False, ncols=2, wspace=0.5, title='leiden_0.3', save=\"_leiden_03.pdf\")"
   ]
  },
  {
   "cell_type": "code",
   "execution_count": null,
   "metadata": {},
   "outputs": [],
   "source": [
    "#calculate and plot counts per cluster, then remove clusters with less than 50 cells\n",
    "# figure out how to change x and y axis labels to percentage and leiden cluster\n",
    "counts = adata.obs.groupby(['leiden_0.3']).count().reset_index()\n",
    "plt.figure(figsize = (20,3))\n",
    "ax = sns.barplot(x = 'leiden_0.3', y = 'n_counts', data = counts)\n",
    "ax.set_yscale(\"log\")\n",
    "plt.savefig((figdir+\"cells_per_leiden03_cluster.png\"))"
   ]
  },
  {
   "cell_type": "code",
   "execution_count": null,
   "metadata": {},
   "outputs": [],
   "source": [
    "adata._inplace_subset_obs( adata.obs.groupby('leiden_0.3').filter( lambda x : len(x)>50).index)"
   ]
  },
  {
   "cell_type": "code",
   "execution_count": null,
   "metadata": {},
   "outputs": [],
   "source": [
    "counts = adata.obs.groupby(['leiden_0.3']).count().reset_index()\n",
    "plt.figure(figsize = (20,3))\n",
    "ax = sns.barplot(x = 'leiden_0.3', y = 'n_counts', data = counts)\n",
    "ax.set_yscale(\"log\")\n",
    "plt.savefig((\"cells_per_leiden_0.3_cluster_afterfiltering.png\"))"
   ]
  },
  {
   "cell_type": "code",
   "execution_count": null,
   "metadata": {},
   "outputs": [],
   "source": [
    "sc.pl.umap(adata, color=\"leiden_0.3\", frameon=False)"
   ]
  },
  {
   "cell_type": "code",
   "execution_count": null,
   "metadata": {},
   "outputs": [],
   "source": [
    "sc.pl.umap(adata, color=['Treatment'], size=1,\n",
    " show=False, add_outline=True,  frameon=False, ncols=2, wspace=0.5, title='Treatment')"
   ]
  },
  {
   "cell_type": "code",
   "execution_count": null,
   "metadata": {},
   "outputs": [],
   "source": [
    "sc.tl.rank_genes_groups(adata, groupby='leiden_0.3', key_added='rank_genes_0.3')"
   ]
  },
  {
   "cell_type": "code",
   "execution_count": null,
   "metadata": {},
   "outputs": [],
   "source": [
    "results = adata.uns['rank_genes_0.3']\n",
    "results['names'].dtype.names"
   ]
  },
  {
   "cell_type": "code",
   "execution_count": null,
   "metadata": {},
   "outputs": [],
   "source": [
    "out = np.array([[0,0,0,0,0]])"
   ]
  },
  {
   "cell_type": "code",
   "execution_count": null,
   "metadata": {},
   "outputs": [],
   "source": [
    "#save genes as csv\n",
    "for group in results['names'].dtype.names:\n",
    "    out = np.vstack((out, np.vstack((results['names'][group],\n",
    "                                     results['scores'][group],\n",
    "                                     results['pvals_adj'][group],\n",
    "                                     results['logfoldchanges'][group],\n",
    "                                     np.array([group] * len(results['names'][group])).astype('object'))).T))"
   ]
  },
  {
   "cell_type": "code",
   "execution_count": null,
   "metadata": {},
   "outputs": [],
   "source": [
    "pd.DataFrame(out).to_csv(tabdir+'leiden_0.3_rank_genes_groups.csv')"
   ]
  },
  {
   "cell_type": "code",
   "execution_count": null,
   "metadata": {},
   "outputs": [],
   "source": [
    "out.shape"
   ]
  },
  {
   "cell_type": "code",
   "execution_count": null,
   "metadata": {},
   "outputs": [],
   "source": [
    "markers = pd.DataFrame(out[1:], columns = ['Gene', 'scores', 'pval_adj', 'lfc', 'cluster'])"
   ]
  },
  {
   "cell_type": "code",
   "execution_count": null,
   "metadata": {},
   "outputs": [],
   "source": [
    "pd.DataFrame.head(markers)"
   ]
  },
  {
   "cell_type": "code",
   "execution_count": null,
   "metadata": {},
   "outputs": [],
   "source": [
    "markers = markers[(markers.pval_adj < 0.05) & (markers.lfc > .5)]"
   ]
  },
  {
   "cell_type": "code",
   "execution_count": null,
   "metadata": {},
   "outputs": [],
   "source": [
    "pd.DataFrame.head(markers)"
   ]
  },
  {
   "cell_type": "code",
   "execution_count": null,
   "metadata": {},
   "outputs": [],
   "source": [
    "markers.to_csv(tabdir+'leiden_0.3_markers_rank_genes_groups.csv')"
   ]
  },
  {
   "cell_type": "code",
   "execution_count": null,
   "metadata": {},
   "outputs": [],
   "source": [
    "results_file = (\"data/processed/clustered_merged_umap.h5ad\")\n",
    "adata.write_h5ad(results_file)"
   ]
  },
  {
   "cell_type": "code",
   "execution_count": null,
   "metadata": {},
   "outputs": [],
   "source": [
    "# print some metrics\n",
    "print(adata.obs['Treatment'].value_counts())\n",
    "print(adata.obs['Model'].value_counts())\n",
    "print(adata.obs['Tissue'].value_counts())\n",
    "print(adata.obs['ReactionID'].value_counts())\n"
   ]
  },
  {
   "cell_type": "code",
   "execution_count": null,
   "metadata": {},
   "outputs": [],
   "source": [
    "# generate cells per variable and write to df\n",
    "\n",
    "treatment_stats = adata.obs['Treatment'].value_counts().to_frame()\n",
    "model_stats = adata.obs['Model'].value_counts().to_frame()\n",
    "tissue_stats = adata.obs['Tissue'].value_counts().to_frame()\n",
    "reaction_stats = adata.obs['ReactionID'].value_counts().to_frame()"
   ]
  },
  {
   "cell_type": "code",
   "execution_count": null,
   "metadata": {},
   "outputs": [],
   "source": [
    "# save df as csv\n",
    "treatment_stats.to_csv((tabdir+'cells_per_treatment.csv'))\n",
    "model_stats.to_csv(tabdir+'cells_per_model.csv')\n",
    "tissue_stats.to_csv(tabdir+'cells_per_tissue.csv')\n",
    "reaction_stats.to_csv(tabdir+'cells_per_reaction.csv')"
   ]
  },
  {
   "cell_type": "code",
   "execution_count": null,
   "metadata": {},
   "outputs": [],
   "source": [
    "type(treatment_stats)"
   ]
  },
  {
   "cell_type": "code",
   "execution_count": null,
   "metadata": {},
   "outputs": [],
   "source": [
    "#need to make sure 4T1 primary tumour control igG is more than 0 - 12490 specificaly\n",
    "count_again=adata.obs.groupby(['Model', 'Tissue', 'Treatment']).size()\n",
    "other_df=count_again.to_frame(name='count').reset_index()\n",
    "other_df"
   ]
  },
  {
   "cell_type": "code",
   "execution_count": null,
   "metadata": {},
   "outputs": [],
   "source": [
    "# split by model\n",
    "\n",
    "from matplotlib.pyplot import rc_context\n",
    "def cluster_small_multiples(adata, ReactionID, size=60, frameon=False, legend_loc=None, **kwargs):\n",
    "    tmp = adata.copy()\n",
    "    for i,clust in enumerate(adata.obs[ReactionID].cat.categories):\n",
    "        tmp.obs[clust] = adata.obs[ReactionID].isin([clust]).astype('category')\n",
    "        tmp.uns[clust+'_colors'] = ['#d3d3d3', adata.uns[ReactionID+'_colors'][i]]\n",
    "    sc.pl.umap(tmp, groups=tmp.obs[clust].cat.categories[1:].values, color=adata.obs[ReactionID].cat.categories.tolist(), size=5, ncols=2, frameon=False, legend_loc=legend_loc, **kwargs)\n",
    "\n",
    "\n",
    "with rc_context({'figure.figsize': (3, 2.5)}):\n",
    "  cluster_small_multiples(adata, 'ReactionID')"
   ]
  },
  {
   "cell_type": "code",
   "execution_count": null,
   "metadata": {},
   "outputs": [],
   "source": [
    "#split by model\n",
    "def cluster_small_multiples(adata, Model, size=60, frameon=False, legend_loc=None, **kwargs):\n",
    "    tmp = adata.copy()\n",
    "    for i,clust in enumerate(adata.obs[Model].cat.categories):\n",
    "        tmp.obs[clust] = adata.obs[Model].isin([clust]).astype('category')\n",
    "        tmp.uns[clust+'_colors'] = ['#d3d3d3', adata.uns[Model+'_colors'][i]]\n",
    "    sc.pl.umap(tmp, groups=tmp.obs[clust].cat.categories[1:].values, color=adata.obs[Model].cat.categories.tolist(), size=5, ncols=2, frameon=False, legend_loc=legend_loc, **kwargs)\n",
    "\n",
    "\n",
    "with rc_context({'figure.figsize': (3, 2.5)}):\n",
    "  cluster_small_multiples(adata, 'Model')"
   ]
  }
 ],
 "metadata": {
  "kernelspec": {
   "display_name": "Python 3.9.13 ('scanpy')",
   "language": "python",
   "name": "python3"
  },
  "language_info": {
   "codemirror_mode": {
    "name": "ipython",
    "version": 3
   },
   "file_extension": ".py",
   "mimetype": "text/x-python",
   "name": "python",
   "nbconvert_exporter": "python",
   "pygments_lexer": "ipython3",
   "version": "3.9.13 | packaged by conda-forge | (main, May 27 2022, 16:58:50) \n[GCC 10.3.0]"
  },
  "orig_nbformat": 4,
  "vscode": {
   "interpreter": {
    "hash": "7c7f278c8d9bf9351652e64bc3e056cf405fcbe39730c7a3ac9dd70c303fd942"
   }
  }
 },
 "nbformat": 4,
 "nbformat_minor": 2
}
