{
 "cells": [
  {
   "cell_type": "code",
   "execution_count": null,
   "metadata": {},
   "outputs": [],
   "source": [
    "## Script for the analysis of TCR receptor sequencing\n",
    "# By Louise Baldwin\n",
    "# takes T cell object with TCR data as input\n",
    "# produces figures, plus a head of subsetted adata objects\n"
   ]
  },
  {
   "cell_type": "code",
   "execution_count": null,
   "metadata": {},
   "outputs": [],
   "source": [
    "# set up\n",
    "import os\n",
    "import sys\n",
    "import scanpy as sc\n",
    "import scirpy as ir\n",
    "import pandas as pd\n",
    "import numpy as np\n",
    "import altair as alt\n",
    "import matplotlib.pyplot as plt\n",
    "import altair_saver as als\n",
    "\n",
    "from matplotlib.pyplot import rc_context\n",
    "from altair_saver import save\n",
    "\n",
    "os.chdir(\"/share/ScratchGeneral/loubal/projects/MSC/mouse-single-cell/\")\n",
    "in_file =(\"data/processed/Tcells_withTCR.h5ad\")\n",
    "results_file=(\"data/processed/Tcells_TCR_analysed.h5ad\")\n",
    "tabdir = (\"outs/Tcells_withTCR/tables/\")\n",
    "figdir = (\"outs/Tcells_withTCR/figures/\")\n",
    "os.makedirs(tabdir, exist_ok=True)\n",
    "os.makedirs(figdir, exist_ok=True)\n",
    "\n",
    "sc.settings.verbosity = 3             \n",
    "sc.logging.print_header()\n",
    "sc.settings.set_figure_params(dpi=300, facecolor='white')\n",
    "sc.settings.figdir=figdir"
   ]
  },
  {
   "cell_type": "code",
   "execution_count": null,
   "metadata": {},
   "outputs": [],
   "source": [
    "adata=sc.read(in_file)"
   ]
  },
  {
   "cell_type": "code",
   "execution_count": null,
   "metadata": {},
   "outputs": [],
   "source": [
    "adata"
   ]
  },
  {
   "cell_type": "code",
   "execution_count": null,
   "metadata": {},
   "outputs": [],
   "source": [
    "# subset just IT and IgG\n",
    "l=[\"Control IgG\", \"PD1+CTLA4\"]\n",
    "adata=adata[adata.obs.Treatment.isin(l)]"
   ]
  },
  {
   "cell_type": "code",
   "execution_count": null,
   "metadata": {},
   "outputs": [],
   "source": [
    "sc.pl.umap(adata, color=\"Tcell_type\", frameon=False, save='.pdf')"
   ]
  },
  {
   "cell_type": "code",
   "execution_count": null,
   "metadata": {},
   "outputs": [],
   "source": [
    "sc.pl.umap(adata, color='Tissue', frameon=False, groups=\"Primary tumour\", save='Tcells_PT.png')\n",
    "sc.pl.umap(adata, color='Tissue', frameon=False, groups=\"Lymph node\", save=\"Tcells_LN.png\")"
   ]
  },
  {
   "cell_type": "code",
   "execution_count": null,
   "metadata": {},
   "outputs": [],
   "source": [
    "with open(tabdir+\"Tcell_LN_number.txt\", \"w\") as text_file:\n",
    "    print(\n",
    "        \"Number of Tcells from lymph nodes: {:.2f}\".format(\n",
    "            np.sum(\n",
    "                adata.obs[\"Tissue\"].isin(\n",
    "                    [\"Lymph node\"]\n",
    "                )\n",
    "            )\n",
    "#            / adata.n_obs\n",
    "        ), file=text_file)\n",
    "\n",
    "with open(tabdir+\"Tcell_LN_proportion.txt\", \"w\") as text_file:\n",
    "    print(\n",
    "        \"Proportion of Tcells from lymph nodes: {:.2f}\".format(\n",
    "            np.sum(\n",
    "                adata.obs[\"Tissue\"].isin(\n",
    "                    [\"Lymph node\"]\n",
    "                )\n",
    "            )\n",
    "            / adata.n_obs\n",
    "        ), file=text_file)\n",
    "\n",
    "with open(tabdir+\"Tcell_PT_number.txt\", \"w\") as text_file:\n",
    "    print(\n",
    "        \"Number of Tcells from primary tumours: {:.2f}\".format(\n",
    "            np.sum(\n",
    "                adata.obs[\"Tissue\"].isin(\n",
    "                    [\"Primary tumour\"]\n",
    "                )\n",
    "            )\n",
    "#            / adata.n_obs\n",
    "        ), file=text_file)\n",
    "\n",
    "\n",
    "with open(tabdir+\"Tcell_PT_proportion.txt\", \"w\") as text_file:\n",
    "    print(\n",
    "        \"Proportion of Tcells from primary tumour: {:.2f}\".format(\n",
    "            np.sum(\n",
    "                adata.obs[\"Tissue\"].isin(\n",
    "                    [\"Primary tumour\"]\n",
    "                )\n",
    "            )\n",
    "            / adata.n_obs\n",
    "        ), file=text_file)"
   ]
  },
  {
   "cell_type": "code",
   "execution_count": null,
   "metadata": {},
   "outputs": [],
   "source": [
    "# are any t cell clusters model specific?\n",
    "sc.pl.umap(adata, color='Model', frameon=False, groups=\"4T1\", save='Tcells_4T1.png')\n",
    "sc.pl.umap(adata, color='Model', frameon=False, groups=\"EMT6\", save=\"Tcells_EMT6.png\")"
   ]
  },
  {
   "cell_type": "code",
   "execution_count": null,
   "metadata": {},
   "outputs": [],
   "source": [
    "with open(tabdir+\"Tcell_4T1_number.txt\", \"w\") as text_file:\n",
    "    print(\n",
    "        \"Number of Tcells from 4T1: {:.2f}\".format(\n",
    "            np.sum(\n",
    "                adata.obs[\"Model\"].isin(\n",
    "                    [\"4T1\"]\n",
    "                )\n",
    "            )\n",
    "#            / adata.n_obs\n",
    "        ), file=text_file)\n",
    "\n",
    "with open(tabdir+\"Tcell_4T1_proportion.txt\", \"w\") as text_file:\n",
    "    print(\n",
    "        \"Proportion of Tcells from 4T1: {:.2f}\".format(\n",
    "            np.sum(\n",
    "                adata.obs[\"Model\"].isin(\n",
    "                    [\"4T1\"]\n",
    "                )\n",
    "            )\n",
    "            / adata.n_obs\n",
    "        ), file=text_file)\n",
    "\n",
    "with open(tabdir+\"Tcell_EMT6_number.txt\", \"w\") as text_file:\n",
    "    print(\n",
    "        \"Number of Tcells from EMT6: {:.2f}\".format(\n",
    "            np.sum(\n",
    "                adata.obs[\"Model\"].isin(\n",
    "                    [\"EMT6\"]\n",
    "                )\n",
    "            )\n",
    "#            / adata.n_obs\n",
    "        ), file=text_file)\n",
    "\n",
    "\n",
    "with open(tabdir+\"Tcell_EMT6_proportion.txt\", \"w\") as text_file:\n",
    "    print(\n",
    "        \"Proportion of Tcells from EMT6: {:.2f}\".format(\n",
    "            np.sum(\n",
    "                adata.obs[\"Model\"].isin(\n",
    "                    [\"EMT6\"]\n",
    "                )\n",
    "            )\n",
    "            / adata.n_obs\n",
    "        ), file=text_file)"
   ]
  },
  {
   "cell_type": "code",
   "execution_count": null,
   "metadata": {},
   "outputs": [],
   "source": [
    "# proportionally, what tissue does each cell type come from\n",
    "tissue_fracs = (\n",
    "    adata.obs.groupby([\"Tissue\"])\n",
    "    .apply(lambda x: x[\"Tcell_type\"].value_counts(normalize=True))\n",
    "    .unstack()\n",
    "    .melt(ignore_index=False, var_name=\"Tcell_type\", value_name=\"fraction\")\n",
    "    .reset_index()\n",
    ")\n",
    "\n",
    "tissue_fracs.loc[lambda x: x[\"fraction\"] > 0, \"Tissue\"].nunique()\n",
    "\n",
    "ch = (\n",
    "    alt.Chart(tissue_fracs)\n",
    "    .mark_bar()\n",
    "    .encode(\n",
    "        x=\"fraction\",\n",
    "        y=\"Tcell_type\",\n",
    "        color=alt.Color(\"Tissue\", legend=alt.Legend(labelLimit=1e6)),\n",
    "    )\n",
    ")\n",
    "\n",
    "#save(ch, \".png\")\n",
    "#als.save(ch, \"Tcells_by_tissue.png\")\n",
    "ch.display()"
   ]
  },
  {
   "cell_type": "code",
   "execution_count": null,
   "metadata": {},
   "outputs": [],
   "source": [
    "# proportionally, what model does each cell type come from\n",
    "model_fracs = (\n",
    "    adata.obs.groupby([\"Model\"])\n",
    "    .apply(lambda x: x[\"Tcell_type\"].value_counts(normalize=True))\n",
    "    .unstack()\n",
    "    .melt(ignore_index=False, var_name=\"Tcell_type\", value_name=\"fraction\")\n",
    "    .reset_index()\n",
    ")\n",
    "\n",
    "model_fracs.loc[lambda x: x[\"fraction\"] > 0, \"Model\"].nunique()\n",
    "\n",
    "ch = (\n",
    "    alt.Chart(model_fracs)\n",
    "    .mark_bar()\n",
    "    .encode(\n",
    "        x=\"fraction\",\n",
    "        y=\"Tcell_type\",\n",
    "        color=alt.Color(\"Model\", legend=alt.Legend(labelLimit=1e6)),\n",
    "    )\n",
    ")\n",
    "\n",
    "ch.display()"
   ]
  },
  {
   "cell_type": "code",
   "execution_count": null,
   "metadata": {},
   "outputs": [],
   "source": [
    "# what cell types expand in the t cells with and without immunotherapy\n",
    "\n",
    "treatment_fracs = (\n",
    "    adata.obs.groupby([\"Treatment\"])\n",
    "    .apply(lambda x: x[\"Tcell_type\"].value_counts(normalize=True))\n",
    "    .unstack()\n",
    "    .melt(ignore_index=False, var_name=\"Tcell_type\", value_name=\"fraction\")\n",
    "    .reset_index()\n",
    ")\n",
    "\n",
    "treatment_fracs.loc[lambda x: x[\"fraction\"] > 0, \"Treatment\"].nunique()\n",
    "\n",
    "ch = (\n",
    "    alt.Chart(treatment_fracs)\n",
    "    .mark_bar()\n",
    "    .encode(\n",
    "        x=\"fraction\",\n",
    "        y=\"Tcell_type\",\n",
    "        color=alt.Color(\"Treatment\", legend=alt.Legend(labelLimit=1e6)),\n",
    "    )\n",
    ")\n",
    "ch.display()"
   ]
  },
  {
   "cell_type": "code",
   "execution_count": null,
   "metadata": {},
   "outputs": [],
   "source": [
    "sc.pl.umap(adata, color='Treatment', frameon=False, groups=\"Control IgG\", save='Tcells_Control IgG.png')\n",
    "sc.pl.umap(adata, color='Treatment', frameon=False, groups=\"PD1+CTLA4\", save=\"Tcells_PD1+CTLA4.png\")"
   ]
  },
  {
   "cell_type": "code",
   "execution_count": null,
   "metadata": {},
   "outputs": [],
   "source": [
    "with open(tabdir+\"Tcell_IgG_number.txt\", \"w\") as text_file:\n",
    "    print(\n",
    "        \"Number of Tcells from IgG: {:.2f}\".format(\n",
    "            np.sum(\n",
    "                adata.obs[\"Treatment\"].isin(\n",
    "                    [\"Control IgG\"]\n",
    "                )\n",
    "            )\n",
    "#            / adata.n_obs\n",
    "        ), file=text_file)\n",
    "\n",
    "with open(tabdir+\"Tcell_IgG_proportion.txt\", \"w\") as text_file:\n",
    "    print(\n",
    "        \"Proportion of Tcells from IgG: {:.2f}\".format(\n",
    "            np.sum(\n",
    "                adata.obs[\"Treatment\"].isin(\n",
    "                    [\"Control IgG\"]\n",
    "                )\n",
    "            )\n",
    "            / adata.n_obs\n",
    "        ), file=text_file)\n",
    "\n",
    "with open(tabdir+\"Tcell_PD1+CTLA4_number.txt\", \"w\") as text_file:\n",
    "    print(\n",
    "        \"Number of Tcells from PD1+CTLA4: {:.2f}\".format(\n",
    "            np.sum(\n",
    "                adata.obs[\"Treatment\"].isin(\n",
    "                    [\"PD1+CTLA4\"]\n",
    "                )\n",
    "            )\n",
    "#            / adata.n_obs\n",
    "        ), file=text_file)\n",
    "\n",
    "\n",
    "with open(tabdir+\"Tcell_PD1+CTLA4_proportion.txt\", \"w\") as text_file:\n",
    "    print(\n",
    "        \"Proportion of Tcells from PD1+CTLA4: {:.2f}\".format(\n",
    "            np.sum(\n",
    "                adata.obs[\"Treatment\"].isin(\n",
    "                    [\"PD1+CTLA4\"]\n",
    "                )\n",
    "            )\n",
    "            / adata.n_obs\n",
    "        ), file=text_file)"
   ]
  },
  {
   "cell_type": "code",
   "execution_count": null,
   "metadata": {},
   "outputs": [],
   "source": [
    "# sc.pl.umap(adata, color=[\"Tcf7\", \"Lef1\"], vmin=2, vmax=4)\n",
    "# sc.pl.umap(adata, color=[\"Tcf7\", \"Lef1\"])"
   ]
  },
  {
   "cell_type": "code",
   "execution_count": null,
   "metadata": {},
   "outputs": [],
   "source": [
    "# sc.pl.heatmap(adata, var_names=[\"Tcf7\", \"Lef1\"], groupby=\"Tcell_type\", vmin=2.5, vmax=5, figsize=(2, 15))"
   ]
  },
  {
   "cell_type": "code",
   "execution_count": null,
   "metadata": {},
   "outputs": [],
   "source": [
    "## TCR QC\n",
    "ir.tl.chain_qc(adata)"
   ]
  },
  {
   "cell_type": "code",
   "execution_count": null,
   "metadata": {},
   "outputs": [],
   "source": [
    "ax = ir.pl.group_abundance(adata, groupby=\"receptor_subtype\", target_col=\"Tissue\")\n",
    "plt.savefig(figdir+\"receptor_type_tissue.png\", bbox_inches=\"tight\")"
   ]
  },
  {
   "cell_type": "code",
   "execution_count": null,
   "metadata": {},
   "outputs": [],
   "source": [
    "# tell me the number of TRA+TRB chains found: receptor_subtype=TRA+TRB\n",
    "with open(\"Fraction of cells with a TCR detected.txt\", \"w\") as text_file:\n",
    "    print(\n",
    "        \"Fraction of cells with a TCR detected: {:.2f}\".format(\n",
    "            np.sum(\n",
    "                adata.obs[\"receptor_subtype\"].isin(\n",
    "                    [\"TRA+TRB\"]\n",
    "                )\n",
    "            )\n",
    "            / adata.n_obs\n",
    "        ), file=text_file)\n",
    "    \n",
    "\n",
    "with open(\"Number of cells with a TCR detected.txt\", \"w\") as text_file:\n",
    "    print(\n",
    "        \"Number of cells with a TCR detected: {:.2f}\".format(\n",
    "            np.sum(\n",
    "                adata.obs[\"receptor_subtype\"].isin(\n",
    "                    [\"TRA+TRB\"]\n",
    "                )\n",
    "            )\n",
    "    #        / adata.n_obs\n",
    "        ), file=text_file)"
   ]
  },
  {
   "cell_type": "code",
   "execution_count": null,
   "metadata": {},
   "outputs": [],
   "source": [
    "ax = ir.pl.group_abundance(adata, groupby=\"chain_pairing\", target_col=\"Tissue\")\n",
    "plt.savefig(figdir+\"chain_pairing_tissue.png\", bbox_inches=\"tight\")"
   ]
  },
  {
   "cell_type": "code",
   "execution_count": null,
   "metadata": {},
   "outputs": [],
   "source": [
    "with open(tabdir+\"Fraction of cells with more than one pair of TCRs.txt\", \"w\") as text_file:\n",
    "    print(\n",
    "        \"Fraction of cells with more than one pair of TCRs: {:.2f}\".format(\n",
    "            np.sum(\n",
    "                adata.obs[\"chain_pairing\"].isin(\n",
    "                    [\"extra VJ\", \"extra VDJ\", \"two full chains\"]\n",
    "                )\n",
    "            )\n",
    "            / adata.n_obs\n",
    "        ), file=text_file)\n",
    "\n",
    "with open(tabdir+\"Number of cells with more than one pair of TCRs.txt\", \"w\") as text_file:\n",
    "    print(\n",
    "        \"Number of cells with more than one pair of TCRs: {:.2f}\".format(\n",
    "            np.sum(\n",
    "                adata.obs[\"chain_pairing\"].isin(\n",
    "                    [\"extra VJ\", \"extra VDJ\", \"two full chains\"]\n",
    "                )\n",
    "            )\n",
    "#            / adata.n_obs\n",
    "        ), file=text_file)\n",
    "\n",
    "\n",
    "with open(tabdir+\"Number of cells with no IR.txt\", \"w\") as text_file:\n",
    "    print(\n",
    "        \"Number of cells with no TCRs: {:.2f}\".format(\n",
    "            np.sum(\n",
    "                adata.obs[\"chain_pairing\"].isin(\n",
    "                    [\"no IR\"]\n",
    "                )\n",
    "            )\n",
    "#            / adata.n_obs\n",
    "        ), file=text_file)"
   ]
  },
  {
   "cell_type": "code",
   "execution_count": null,
   "metadata": {},
   "outputs": [],
   "source": [
    "sc.pl.umap(adata, color=\"chain_pairing\", frameon=False, groups=[\"no IR\", \"single pair\"])\n",
    "\n",
    "# ugly colors, need to fix"
   ]
  },
  {
   "cell_type": "code",
   "execution_count": null,
   "metadata": {},
   "outputs": [],
   "source": [
    "l=[\"no IR\", \"single pair\"]\n",
    "\n",
    "subset=adata[adata.obs.chain_pairing.isin(l)]\n",
    "\n"
   ]
  },
  {
   "cell_type": "code",
   "execution_count": null,
   "metadata": {},
   "outputs": [],
   "source": [
    "ax = ir.pl.group_abundance(subset, groupby=\"Tcell_type\", target_col=\"chain_pairing\", figsize=(7, 3))\n",
    "plt.savefig(figdir+\"chain_pairing_Tcells_sp_noIR_inly.png\", bbox_inches=\"tight\")"
   ]
  },
  {
   "cell_type": "code",
   "execution_count": null,
   "metadata": {},
   "outputs": [],
   "source": [
    "# even distribution of IR and no IR across cell types. Mostly mt-high and memory_cd4_cd8 have no IR. \n",
    "ax = ir.pl.group_abundance(adata, groupby=\"Tcell_type\", target_col=\"chain_pairing\", figsize=(7, 3))\n",
    "plt.savefig(figdir+\"chain_pairing_Tcells.png\", bbox_inches=\"tight\")"
   ]
  },
  {
   "cell_type": "code",
   "execution_count": null,
   "metadata": {},
   "outputs": [],
   "source": [
    "# define clonotypes based on sequence identity\n",
    "ir.pp.ir_dist(adata)\n",
    "ir.tl.define_clonotypes(adata, receptor_arms=\"all\", dual_ir=\"primary_only\")"
   ]
  },
  {
   "cell_type": "code",
   "execution_count": null,
   "metadata": {},
   "outputs": [],
   "source": [
    "ir.tl.clonal_expansion(adata)\n",
    "# sc.pl.umap(adata, color=[\"clonal_expansion\", \"clone_id_size\"], wspace=0.3, frameon=False, save=\"_clonalexp_size_all.png\")\n",
    "# sc.pl.umap(adata, color=[\"clonal_expansion\"], groups=\"nan\", frameon=False, save=\"_no_clonal_exp_all.png\")"
   ]
  },
  {
   "cell_type": "code",
   "execution_count": null,
   "metadata": {},
   "outputs": [],
   "source": [
    "ir.pl.clonal_expansion(adata, groupby=\"Tcell_type\", clip_at=4, normalize=False, show_nonexpanded=False, figsize=(8, 4))"
   ]
  },
  {
   "cell_type": "code",
   "execution_count": null,
   "metadata": {},
   "outputs": [],
   "source": [
    "ir.pl.clonal_expansion(adata, groupby=\"Tcell_type\", clip_at=4, normalize=False, figsize=(8, 4))\n",
    "plt.savefig(figdir+\"allcell_lonal expansion_all_umap.png\", bbox_inches=\"tight\")"
   ]
  },
  {
   "cell_type": "code",
   "execution_count": null,
   "metadata": {},
   "outputs": [],
   "source": [
    "# remove cells with only one clone or no IR\n",
    "exp=adata[adata.obs.clone_id_size!=1.0]\n",
    "exp = exp[exp.obs[\"has_ir\"] !=\"None\", :]\n"
   ]
  },
  {
   "cell_type": "code",
   "execution_count": null,
   "metadata": {},
   "outputs": [],
   "source": [
    "sc.pl.umap(exp, color=[\"clonal_expansion\", \"clone_id_size\", \"Tissue\"], size=20, wspace=0.3, save=\"_clonallyexpanded_cells_tissue.pdf\")"
   ]
  },
  {
   "cell_type": "code",
   "execution_count": null,
   "metadata": {},
   "outputs": [],
   "source": [
    "sc.pl.umap(exp, color=[\"clone_id_size\", \"clonal_expansion\", \"Tcell_type\" ], size=20, wspace=0.3, save='expanded_clones_umap.png')"
   ]
  },
  {
   "cell_type": "code",
   "execution_count": null,
   "metadata": {},
   "outputs": [],
   "source": [
    "ir.pp.ir_dist(exp)"
   ]
  },
  {
   "cell_type": "code",
   "execution_count": null,
   "metadata": {},
   "outputs": [],
   "source": [
    "ir.tl.define_clonotypes(exp, receptor_arms=\"all\", dual_ir=\"primary_only\")"
   ]
  },
  {
   "cell_type": "code",
   "execution_count": null,
   "metadata": {},
   "outputs": [],
   "source": [
    "ir.tl.clonotype_network(exp, min_cells=4)"
   ]
  },
  {
   "cell_type": "code",
   "execution_count": null,
   "metadata": {},
   "outputs": [],
   "source": [
    "ir.pl.clonotype_network(\n",
    "    exp, color=\"Model\", base_size=20, label_fontsize=9, panel_size=(7, 7)\n",
    ")\n",
    "plt.savefig(figdir+\"clonotype_network_nt_all_model.png\", bbox_inches=\"tight\")"
   ]
  },
  {
   "cell_type": "code",
   "execution_count": null,
   "metadata": {},
   "outputs": [],
   "source": [
    "# do the above, but with amino acid similarity\n",
    "ir.pp.ir_dist(\n",
    "    exp,\n",
    "    metric=\"alignment\",\n",
    "    sequence=\"aa\",\n",
    "    cutoff=10,\n",
    ")"
   ]
  },
  {
   "cell_type": "code",
   "execution_count": null,
   "metadata": {},
   "outputs": [],
   "source": [
    "ir.tl.define_clonotype_clusters(\n",
    "    exp, sequence=\"aa\", metric=\"alignment\", receptor_arms=\"all\", dual_ir=\"any\"\n",
    ")"
   ]
  },
  {
   "cell_type": "code",
   "execution_count": null,
   "metadata": {},
   "outputs": [],
   "source": [
    "ir.tl.clonotype_network(exp, min_cells=3, sequence=\"aa\", metric=\"alignment\")"
   ]
  },
  {
   "cell_type": "code",
   "execution_count": null,
   "metadata": {},
   "outputs": [],
   "source": [
    "ir.pl.clonotype_network(\n",
    "    exp, color=\"Model\", label_fontsize=9, panel_size=(7, 7), base_size=20)\n",
    "plt.savefig(figdir+\"clonotype_network_aa_all_bymodel.png\", bbox_inches=\"tight\")"
   ]
  },
  {
   "cell_type": "code",
   "execution_count": null,
   "metadata": {},
   "outputs": [],
   "source": [
    "ir.pl.clonotype_network(\n",
    "    exp, color=\"Tissue\", label_fontsize=9, panel_size=(7, 7), base_size=20)\n",
    "plt.savefig(figdir+\"clonotype_network_aa_all_bytissue.png\", bbox_inches=\"tight\")"
   ]
  },
  {
   "cell_type": "code",
   "execution_count": null,
   "metadata": {},
   "outputs": [],
   "source": [
    "# #subset out cluster 204 - emt6 cluster. Is this cluster just in one treatmnt group or in both?\n",
    "# exp.obs.loc[exp.obs[\"cc_aa_alignment\"] == \"101\", :].groupby(\n",
    "#     [\n",
    "#         \"receptor_subtype\",\n",
    "#         \"Treatment\", \n",
    "#         \"Tissue\"\n",
    "#     ],\n",
    "#     observed=True,\n",
    "# ).size().reset_index(name=\"n_cells\")"
   ]
  },
  {
   "cell_type": "code",
   "execution_count": null,
   "metadata": {},
   "outputs": [],
   "source": [
    "ir.pl.clonal_expansion(exp, groupby=\"Tcell_type\", clip_at=4, normalize=False, figsize=(8, 4))\n",
    "plt.savefig(figdir+\"clonal_expansion_byTcell_Type_all.png\", bbox_inches=\"tight\")"
   ]
  },
  {
   "cell_type": "code",
   "execution_count": null,
   "metadata": {},
   "outputs": [],
   "source": [
    "ir.pl.clonal_expansion(exp, groupby=\"Tissue\", clip_at=4, normalize=False, figsize=(3,3))\n",
    "plt.savefig(figdir+\"clonal_expansion_byTissue_all.png\", bbox_inches=\"tight\")"
   ]
  },
  {
   "cell_type": "code",
   "execution_count": null,
   "metadata": {},
   "outputs": [],
   "source": [
    "ir.pl.clonal_expansion(exp, groupby=\"Tcell_type\", clip_at=4, normalize=True, figsize=(8, 4))\n",
    "plt.savefig(figdir+\"clonal_expansion_byTcell_Type_normalised_all.png\", bbox_inches=\"tight\")"
   ]
  },
  {
   "cell_type": "code",
   "execution_count": null,
   "metadata": {},
   "outputs": [],
   "source": [
    "exp"
   ]
  },
  {
   "cell_type": "code",
   "execution_count": null,
   "metadata": {},
   "outputs": [],
   "source": [
    "#### Need to subset the models. How does clonal expansion happen in EMT6 when treated with IT vs control IgG?\n",
    "l=[\"EMT6\"]\n",
    "emt6=adata[adata.obs.Model.isin(l)]"
   ]
  },
  {
   "cell_type": "code",
   "execution_count": null,
   "metadata": {},
   "outputs": [],
   "source": [
    "l=[\"4T1\"]\n",
    "x4t1=adata[adata.obs.Model.isin(l)]"
   ]
  },
  {
   "cell_type": "code",
   "execution_count": null,
   "metadata": {},
   "outputs": [],
   "source": [
    "ir.tl.clonal_expansion(emt6)\n",
    "# sc.pl.umap(emt6, color=[\"clonal_expansion\", \"clone_id_size\"], wspace=0.3, save=\"_emt6_all.png\")\n",
    "# sc.pl.umap(emt6, color=[\"clonal_expansion\"], groups=[\"nan\"], save=\"_emt6_noIR.png\")"
   ]
  },
  {
   "cell_type": "code",
   "execution_count": null,
   "metadata": {},
   "outputs": [],
   "source": [
    "sc.pl.umap(emt6, color=[\"clone_id_size\", \"clonal_expansion\", \"Tcell_type\" ], size=10, wspace=0.3, save=\"_emt6_clonalexpansion_celltype_all\")\n",
    "sc.pl.umap(emt6, color=[\"clone_id_size\", \"clonal_expansion\", \"Tissue\" ], size=10, wspace=0.3, save=\"_emt6_clonalexpansion_tissue_all\")"
   ]
  },
  {
   "cell_type": "code",
   "execution_count": null,
   "metadata": {},
   "outputs": [],
   "source": [
    "ir.pl.clonal_expansion(emt6, groupby=\"Tcell_type\", clip_at=4, normalize=False, figsize=(8, 4))\n",
    "plt.savefig(figdir+\"emt6_clonal expansion_all_umap.png\", bbox_inches=\"tight\")"
   ]
  },
  {
   "cell_type": "code",
   "execution_count": null,
   "metadata": {},
   "outputs": [],
   "source": [
    "emt6_exp=emt6[emt6.obs.clonal_expansion!=\"1\"]\n",
    "emt6_exp=emt6_exp[emt6_exp.obs.clone_id_size!=1.0]\n",
    "emt6_exp = emt6_exp[emt6_exp.obs[\"has_ir\"] !=\"None\", :]"
   ]
  },
  {
   "cell_type": "code",
   "execution_count": null,
   "metadata": {},
   "outputs": [],
   "source": [
    "sc.pl.umap(emt6_exp, color=[\"clonal_expansion\", \"Tcell_type\" ], size=20, wspace=0.3, save=\"_emt6_clonalexpansion.png\")\n",
    "sc.pl.umap(emt6_exp, color=[\"clonal_expansion\", \"Tissue\" ], size=20, wspace=0.3, save=\"_emt6_clonalexpanion_tissue.png\")"
   ]
  },
  {
   "cell_type": "code",
   "execution_count": null,
   "metadata": {},
   "outputs": [],
   "source": [
    "ir.pl.clonal_expansion(emt6_exp, groupby=\"Tcell_type\", clip_at=4, normalize=True, figsize=(8, 4))\n",
    "plt.savefig(figdir+\"emt6_clonalexpanion_tcelltype_normalised.png\", bbox_inches=\"tight\")\n",
    "\n",
    "\n",
    "# ir.pl.clonal_expansion(emt6_exp, groupby=\"Tcell_type\", clip_at=4, normalize=True, figsize=(8, 4))\n",
    "# plt.savefig(figdir+\"emt6_clonalexpanion_tcelltype_normalised.png\", bbox_inches=\"tight\")\n"
   ]
  },
  {
   "cell_type": "code",
   "execution_count": null,
   "metadata": {},
   "outputs": [],
   "source": [
    "ir.tl.clonal_expansion(x4t1)\n",
    "# sc.pl.umap(x4t1, color=[\"clonal_expansion\", \"clone_id_size\"], wspace=0.3, save=\"_x4t1_all.png\")\n",
    "# sc.pl.umap(x4t1, color=[\"clonal_expansion\"], groups=\"nan\", save=\"x4T1_noIR.png\")"
   ]
  },
  {
   "cell_type": "code",
   "execution_count": null,
   "metadata": {},
   "outputs": [],
   "source": [
    "sc.pl.umap(x4t1, color=[\"clone_id_size\", \"clonal_expansion\", \"Tcell_type\" ], size=20, wspace=0.3, save=\"_x4t1_all_clonalexp.png\")"
   ]
  },
  {
   "cell_type": "code",
   "execution_count": null,
   "metadata": {},
   "outputs": [],
   "source": [
    "ir.pl.clonal_expansion(x4t1, groupby=\"Tcell_type\", clip_at=4, normalize=False, figsize=(8, 4))\n",
    "plt.savefig(figdir+\"4t1_clonal_expansion_all.png\", bbox_inches=\"tight\")"
   ]
  },
  {
   "cell_type": "code",
   "execution_count": null,
   "metadata": {},
   "outputs": [],
   "source": [
    "x4t1_exp=x4t1[x4t1.obs.clonal_expansion!=\"1\"]\n",
    "x4t1_exp=x4t1_exp[x4t1_exp.obs.clone_id_size!=1.0]\n",
    "x4t1_exp = x4t1_exp[x4t1_exp.obs[\"has_ir\"] !=\"None\", :]"
   ]
  },
  {
   "cell_type": "code",
   "execution_count": null,
   "metadata": {},
   "outputs": [],
   "source": [
    "sc.pl.umap(x4t1_exp, color=[\"clone_id_size\", \"clonal_expansion\", \"Tcell_type\" ], size=20, wspace=0.3,  save=\"4t1_clonalexpanion.png\")\n",
    "sc.pl.umap(x4t1_exp, color=[\"clone_id_size\", \"clonal_expansion\", \"Tissue\" ], size=20, wspace=0.3,  save=\"4t1_clonalexpansion_tissue.png\")"
   ]
  },
  {
   "cell_type": "code",
   "execution_count": null,
   "metadata": {},
   "outputs": [],
   "source": [
    "ir.pl.clonal_expansion(x4t1_exp, groupby=\"Tcell_type\", clip_at=4, normalize=False, figsize=(8, 4))\n",
    "plt.savefig(figdir+\"4t1_clonalexpanion.png\", bbox_inches=\"tight\")\n",
    "\n",
    "# ir.pl.clonal_expansion(x4t1_exp, groupby=\"Tcell_type\", clip_at=4, normalize=True, figsize=(8, 4))\n",
    "# plt.savefig(figdir+\"4t1_clonalexpanion_normalised.png\", bbox_inches=\"tight\")"
   ]
  },
  {
   "cell_type": "code",
   "execution_count": null,
   "metadata": {},
   "outputs": [],
   "source": [
    "ir.pl.clonal_expansion(x4t1_exp, groupby=\"Treatment\", clip_at=10, normalize=True)\n",
    "plt.savefig(figdir+\"4t1_clonal_expansion_bytreatment.png\", bbox_inches=\"tight\")"
   ]
  },
  {
   "cell_type": "code",
   "execution_count": null,
   "metadata": {},
   "outputs": [],
   "source": [
    "ir.pl.clonal_expansion(emt6_exp, groupby=\"Treatment\", clip_at=10, normalize=True)\n",
    "plt.savefig(figdir+\"emt6_clonal_expansion_bytreatment.png\", bbox_inches=\"tight\")    "
   ]
  },
  {
   "cell_type": "code",
   "execution_count": null,
   "metadata": {},
   "outputs": [],
   "source": [
    "l=[\"PD1+CTLA4\"]\n",
    "emt6_exp_it=emt6_exp[emt6_exp.obs.Treatment.isin(l)]\n",
    "\n",
    "l=[\"Control IgG\"]\n",
    "emt6_exp_ig=emt6_exp[emt6_exp.obs.Treatment.isin(l)]"
   ]
  },
  {
   "cell_type": "code",
   "execution_count": null,
   "metadata": {},
   "outputs": [],
   "source": [
    "ir.tl.clonal_expansion(emt6_exp_it)"
   ]
  },
  {
   "cell_type": "code",
   "execution_count": null,
   "metadata": {},
   "outputs": [],
   "source": [
    "emt6_exp_it=emt6_exp_it[emt6_exp_it.obs.clonal_expansion!=\"1\"]\n",
    "emt6_exp_it=emt6_exp_it[emt6_exp_it.obs.clone_id_size!=1.0]\n",
    "emt6_exp_it = emt6_exp_it[emt6_exp_it.obs[\"has_ir\"] !=\"None\", :]"
   ]
  },
  {
   "cell_type": "code",
   "execution_count": null,
   "metadata": {},
   "outputs": [],
   "source": [
    "ir.pl.clonal_expansion(emt6_exp_it, groupby=\"Tcell_type\", clip_at=4, normalize=True, figsize=(8, 4))\n",
    "plt.savefig(figdir+\"emt6_it_clonalexpanion_normalised.png\", bbox_inches=\"tight\")"
   ]
  },
  {
   "cell_type": "code",
   "execution_count": null,
   "metadata": {},
   "outputs": [],
   "source": [
    "sc.pl.umap(emt6_exp_it, color=[\"clonal_expansion\", \"Tcell_type\"], wspace=0.3, frameon=False, size=20, save=\"_emt6_exp_it_umap.png\")"
   ]
  },
  {
   "cell_type": "code",
   "execution_count": null,
   "metadata": {},
   "outputs": [],
   "source": [
    "ir.tl.clonal_expansion(emt6_exp_ig)"
   ]
  },
  {
   "cell_type": "code",
   "execution_count": null,
   "metadata": {},
   "outputs": [],
   "source": [
    "emt6_exp_ig=emt6_exp_ig[emt6_exp_ig.obs.clonal_expansion!=\"1\"]\n",
    "emt6_exp_ig=emt6_exp_ig[emt6_exp_ig.obs.clone_id_size!=1.0]\n",
    "emt6_exp_ig = emt6_exp_ig[emt6_exp_ig.obs[\"has_ir\"] !=\"None\", :]"
   ]
  },
  {
   "cell_type": "code",
   "execution_count": null,
   "metadata": {},
   "outputs": [],
   "source": [
    "ir.pl.clonal_expansion(emt6_exp_ig, groupby=\"Tcell_type\", clip_at=4, normalize=True, figsize=(8, 4))\n",
    "plt.savefig(figdir+\"emt6_ig_clonalexpanion_normalised.png\", bbox_inches=\"tight\")"
   ]
  },
  {
   "cell_type": "code",
   "execution_count": null,
   "metadata": {},
   "outputs": [],
   "source": [
    "ir.pl.clonal_expansion(emt6_exp_ig, groupby=\"Tissue\", clip_at=4, normalize=False, figsize=(3, 3))\n",
    "plt.savefig(figdir+\"emt6_ig_clonalexpanion_tissue.png\", bbox_inches=\"tight\")"
   ]
  },
  {
   "cell_type": "code",
   "execution_count": null,
   "metadata": {},
   "outputs": [],
   "source": [
    "ir.pl.clonal_expansion(emt6_exp_it, groupby=\"Tissue\", clip_at=4, normalize=False, figsize=(3, 3))\n",
    "plt.savefig(figdir+\"emt6_it_clonalexpanion_tissue.png\", bbox_inches=\"tight\")"
   ]
  },
  {
   "cell_type": "code",
   "execution_count": null,
   "metadata": {},
   "outputs": [],
   "source": [
    "l=[\"PD1+CTLA4\"]\n",
    "x4t1_exp_it=x4t1_exp[x4t1_exp.obs.Treatment.isin(l)]\n",
    "\n",
    "l=[\"Control IgG\"]\n",
    "x4t1_exp_ig=x4t1_exp[x4t1_exp.obs.Treatment.isin(l)]"
   ]
  },
  {
   "cell_type": "code",
   "execution_count": null,
   "metadata": {},
   "outputs": [],
   "source": [
    "ir.tl.clonal_expansion(x4t1_exp_it)"
   ]
  },
  {
   "cell_type": "code",
   "execution_count": null,
   "metadata": {},
   "outputs": [],
   "source": [
    "x4t1_exp_it=x4t1_exp_it[x4t1_exp_it.obs.clonal_expansion!=\"1\"]\n",
    "x4t1_exp_it=x4t1_exp_it[x4t1_exp_it.obs.clone_id_size!=1.0]\n",
    "x4t1_exp_it = x4t1_exp_it[x4t1_exp_it.obs[\"has_ir\"] !=\"None\", :]"
   ]
  },
  {
   "cell_type": "code",
   "execution_count": null,
   "metadata": {},
   "outputs": [],
   "source": [
    "ir.pl.clonal_expansion(x4t1_exp_it, groupby=\"Tcell_type\", clip_at=4, normalize=False, figsize=(8, 4))\n",
    "plt.savefig(figdir+\"x4t1_it_clonalexpansion.png\", bbox_inches=\"tight\")"
   ]
  },
  {
   "cell_type": "code",
   "execution_count": null,
   "metadata": {},
   "outputs": [],
   "source": [
    "ir.pl.clonal_expansion(x4t1_exp_it, groupby=\"Tissue\", clip_at=4, normalize=False, figsize=(4, 4))\n",
    "plt.savefig(figdir+\"x4t1_it_clonalexpansion_tissue.png\", bbox_inches=\"tight\")"
   ]
  },
  {
   "cell_type": "code",
   "execution_count": null,
   "metadata": {},
   "outputs": [],
   "source": [
    "ir.tl.clonal_expansion(x4t1_exp_ig)"
   ]
  },
  {
   "cell_type": "code",
   "execution_count": null,
   "metadata": {},
   "outputs": [],
   "source": [
    "x4t1_exp_ig=x4t1_exp_ig[x4t1_exp_ig.obs.clonal_expansion!=\"1\"]\n",
    "x4t1_exp_ig=x4t1_exp_ig[x4t1_exp_ig.obs.clone_id_size!=1.0]\n",
    "x4t1_exp_ig = x4t1_exp_ig[x4t1_exp_ig.obs[\"has_ir\"] !=\"None\", :]"
   ]
  },
  {
   "cell_type": "code",
   "execution_count": null,
   "metadata": {},
   "outputs": [],
   "source": [
    "ir.pl.clonal_expansion(x4t1_exp_ig, groupby=\"Tcell_type\", clip_at=4, normalize=False, figsize=(8, 4))\n",
    "plt.savefig(figdir+\"x4t1_ig_clonalexpansion.png\", bbox_inches=\"tight\")"
   ]
  },
  {
   "cell_type": "code",
   "execution_count": null,
   "metadata": {},
   "outputs": [],
   "source": [
    "ir.pl.clonal_expansion(x4t1_exp_ig, groupby=\"Tissue\", clip_at=4, normalize=False, figsize=(4, 4))\n",
    "plt.savefig(figdir+\"x4t1_ig_clonalexpansion_tissue.png\", bbox_inches=\"tight\")"
   ]
  },
  {
   "cell_type": "code",
   "execution_count": null,
   "metadata": {},
   "outputs": [],
   "source": [
    "l=[\"Primary tumour\"]\n",
    "x4t1_exp_ig_pt=x4t1_exp_ig[x4t1_exp_ig.obs.Tissue.isin(l)]\n",
    "\n",
    "l=[\"Lymph node\"]\n",
    "x4t1_exp_ig_ln=x4t1_exp_ig[x4t1_exp_ig.obs.Tissue.isin(l)]"
   ]
  },
  {
   "cell_type": "code",
   "execution_count": null,
   "metadata": {},
   "outputs": [],
   "source": [
    "ir.tl.clonal_expansion(x4t1_exp_ig_pt)\n",
    "ir.tl.clonal_expansion(x4t1_exp_ig_ln)"
   ]
  },
  {
   "cell_type": "code",
   "execution_count": null,
   "metadata": {},
   "outputs": [],
   "source": [
    "x4t1_exp_ig_pt=x4t1_exp_ig_pt[x4t1_exp_ig_pt.obs.clonal_expansion!=\"1\"]\n",
    "x4t1_exp_ig_pt=x4t1_exp_ig_pt[x4t1_exp_ig_pt.obs.clone_id_size!=1.0]\n",
    "x4t1_exp_ig_pt = x4t1_exp_ig_pt[x4t1_exp_ig_pt.obs[\"has_ir\"] !=\"None\", :]\n",
    "\n",
    "x4t1_exp_ig_ln=x4t1_exp_ig_ln[x4t1_exp_ig_ln.obs.clonal_expansion!=\"1\"]\n",
    "x4t1_exp_ig_ln=x4t1_exp_ig_ln[x4t1_exp_ig_ln.obs.clone_id_size!=1.0]\n",
    "x4t1_exp_ig_ln = x4t1_exp_ig_ln[x4t1_exp_ig_ln.obs[\"has_ir\"] !=\"None\", :]"
   ]
  },
  {
   "cell_type": "code",
   "execution_count": null,
   "metadata": {},
   "outputs": [],
   "source": [
    "ir.pl.clonal_expansion(x4t1_exp_ig_pt, groupby=\"Tcell_type\", clip_at=4, normalize=False, figsize=(8, 4))\n",
    "ir.pl.clonal_expansion(x4t1_exp_ig_ln, groupby=\"Tcell_type\", clip_at=4, normalize=False, figsize=(8, 4))"
   ]
  },
  {
   "cell_type": "code",
   "execution_count": null,
   "metadata": {},
   "outputs": [],
   "source": [
    "l=[\"Primary tumour\"]\n",
    "x4t1_exp_it_pt=x4t1_exp_it[x4t1_exp_it.obs.Tissue.isin(l)]\n",
    "l=[\"Lymph node\"]\n",
    "x4t1_exp_it_ln=x4t1_exp_it[x4t1_exp_it.obs.Tissue.isin(l)]\n"
   ]
  },
  {
   "cell_type": "code",
   "execution_count": null,
   "metadata": {},
   "outputs": [],
   "source": [
    "ir.tl.clonal_expansion(x4t1_exp_it_pt)\n",
    "ir.tl.clonal_expansion(x4t1_exp_it_ln)"
   ]
  },
  {
   "cell_type": "code",
   "execution_count": null,
   "metadata": {},
   "outputs": [],
   "source": [
    "x4t1_exp_it_pt=x4t1_exp_it_pt[x4t1_exp_it_pt.obs.clonal_expansion!=\"1\"]\n",
    "x4t1_exp_it_pt=x4t1_exp_it_pt[x4t1_exp_it_pt.obs.clone_id_size!=1.0]\n",
    "x4t1_exp_it_pt = x4t1_exp_it_pt[x4t1_exp_it_pt.obs[\"has_ir\"] !=\"None\", :]\n",
    "\n",
    "x4t1_exp_it_ln=x4t1_exp_it_ln[x4t1_exp_it_ln.obs.clonal_expansion!=\"1\"]\n",
    "x4t1_exp_it_ln=x4t1_exp_it_ln[x4t1_exp_it_ln.obs.clone_id_size!=1.0]\n",
    "x4t1_exp_it_ln = x4t1_exp_it_ln[x4t1_exp_it_ln.obs[\"has_ir\"] !=\"None\", :]"
   ]
  },
  {
   "cell_type": "code",
   "execution_count": null,
   "metadata": {},
   "outputs": [],
   "source": [
    "ir.pl.clonal_expansion(x4t1_exp_ig_pt, groupby=\"Tcell_type\", clip_at=4, normalize=False, figsize=(5.5, 4))\n",
    "plt.savefig(figdir+\"x4t1_ig_pt_clonalexpansion.png\", bbox_inches=\"tight\")"
   ]
  },
  {
   "cell_type": "code",
   "execution_count": null,
   "metadata": {},
   "outputs": [],
   "source": [
    "ir.pl.clonal_expansion(x4t1_exp_it_pt, groupby=\"Tcell_type\", clip_at=4, normalize=False, figsize=(4, 4))\n",
    "plt.savefig(figdir+\"x4t1_it_pt_clonalexpansion.png\", bbox_inches=\"tight\")"
   ]
  },
  {
   "cell_type": "code",
   "execution_count": null,
   "metadata": {},
   "outputs": [],
   "source": [
    "ir.pl.clonal_expansion(x4t1_exp_it_ln, groupby=\"Tcell_type\", clip_at=4, normalize=False, figsize=(5, 4))\n",
    "plt.savefig(figdir+\"x4t1_it_ln_clonalexpansion.png\", bbox_inches=\"tight\")"
   ]
  },
  {
   "cell_type": "code",
   "execution_count": null,
   "metadata": {},
   "outputs": [],
   "source": [
    "ir.pl.clonal_expansion(x4t1_exp_ig_ln, groupby=\"Tcell_type\", clip_at=4, normalize=False, figsize=(5, 4))\n",
    "plt.savefig(figdir+\"x4t1_ig_ln_clonalexpansion.png\", bbox_inches=\"tight\")"
   ]
  },
  {
   "cell_type": "code",
   "execution_count": null,
   "metadata": {},
   "outputs": [],
   "source": [
    "l=[\"Primary tumour\"]\n",
    "emt6_exp_it_pt=emt6_exp_it[emt6_exp_it.obs.Tissue.isin(l)]\n",
    "l=[\"Lymph node\"]\n",
    "emt6_exp_it_ln=emt6_exp_it[emt6_exp_it.obs.Tissue.isin(l)]\n"
   ]
  },
  {
   "cell_type": "code",
   "execution_count": null,
   "metadata": {},
   "outputs": [],
   "source": [
    "ir.tl.clonal_expansion(emt6_exp_it_pt)\n",
    "ir.tl.clonal_expansion(emt6_exp_it_ln)"
   ]
  },
  {
   "cell_type": "code",
   "execution_count": null,
   "metadata": {},
   "outputs": [],
   "source": [
    "emt6_exp_it_pt=emt6_exp_it_pt[emt6_exp_it_pt.obs.clonal_expansion!=\"1\"]\n",
    "emt6_exp_it_pt=emt6_exp_it_pt[emt6_exp_it_pt.obs.clone_id_size!=1.0]\n",
    "emt6_exp_it_pt = emt6_exp_it_pt[emt6_exp_it_pt.obs[\"has_ir\"] !=\"None\", :]\n",
    "\n",
    "emt6_exp_it_ln=emt6_exp_it_ln[emt6_exp_it_ln.obs.clonal_expansion!=\"1\"]\n",
    "emt6_exp_it_ln=emt6_exp_it_ln[emt6_exp_it_ln.obs.clone_id_size!=1.0]\n",
    "emt6_exp_it_ln = emt6_exp_it_ln[emt6_exp_it_ln.obs[\"has_ir\"] !=\"None\", :]"
   ]
  },
  {
   "cell_type": "code",
   "execution_count": null,
   "metadata": {},
   "outputs": [],
   "source": [
    "ir.pl.clonal_expansion(emt6_exp_it_pt, groupby=\"Tcell_type\", clip_at=4, normalize=False, figsize=(8, 4))\n",
    "ir.pl.clonal_expansion(emt6_exp_it_ln, groupby=\"Tcell_type\", clip_at=4, normalize=False, figsize=(8, 4))"
   ]
  },
  {
   "cell_type": "code",
   "execution_count": null,
   "metadata": {},
   "outputs": [],
   "source": [
    "ir.tl.clonal_expansion(emt6_exp_it_pt)\n",
    "ir.tl.clonal_expansion(emt6_exp_it_ln)"
   ]
  },
  {
   "cell_type": "code",
   "execution_count": null,
   "metadata": {},
   "outputs": [],
   "source": [
    "\n",
    "ir.pp.ir_dist(\n",
    "    emt6_exp,\n",
    "    metric=\"alignment\",\n",
    "    sequence=\"aa\",\n",
    "    cutoff=10,\n",
    ")\n",
    "\n",
    "ir.tl.define_clonotype_clusters(\n",
    "    emt6_exp, sequence=\"aa\", metric=\"alignment\", receptor_arms=\"all\", dual_ir=\"any\"\n",
    ")\n",
    "\n",
    "ir.tl.clonotype_network(emt6_exp, min_cells=3, sequence=\"aa\", metric=\"alignment\")"
   ]
  },
  {
   "cell_type": "code",
   "execution_count": null,
   "metadata": {},
   "outputs": [],
   "source": [
    "ir.pl.clonotype_network(\n",
    "    emt6_exp, color=\"Tissue\", label_fontsize=9, panel_size=(7, 7), base_size=20, frameon=False)\n",
    "plt.savefig(figdir+\"emt6_clone_network_bytissue.png\", bbox_inches=\"tight\")\n",
    "\n",
    "ir.pl.clonotype_network(\n",
    "    emt6_exp, color=\"Treatment\", label_fontsize=9, panel_size=(7, 7), base_size=20, frameon=False)\n",
    "plt.savefig(figdir+\"emt6_clone_network_bytreatment.png\", bbox_inches=\"tight\")\n",
    "\n",
    "ir.pl.clonotype_network(\n",
    "    emt6_exp, color=\"Tcell_type\", label_fontsize=9, panel_size=(7, 7), base_size=20, frameon=False)\n",
    "plt.savefig(figdir+\"emt6_clone_network_bycell_type.png\", bbox_inches=\"tight\")"
   ]
  },
  {
   "attachments": {},
   "cell_type": "markdown",
   "metadata": {},
   "source": [
    "Interesting things: Clone 12 is part of a big network found both within the primary tumour and the lymph node, and is there in both control treated and immunotherapy treated mice\n",
    "Clone 23 is present in both the lymph node and primary tumour, but only when treated with immunotherapy. Evidence new antigens are being presented and activated."
   ]
  },
  {
   "cell_type": "code",
   "execution_count": null,
   "metadata": {},
   "outputs": [],
   "source": [
    "# # lets isolate clone 12 - what cells is it expressed on?\n",
    "# emt6_exp.obs.loc[emt6_exp.obs[\"cc_aa_alignment\"] == \"12\", :].groupby(\n",
    "#     [\n",
    "#         \"receptor_subtype\",\n",
    "#         \"Tcell_type\",\n",
    "#     ],\n",
    "#     observed=True,\n",
    "# ).size().reset_index(name=\"n_cells\")"
   ]
  },
  {
   "cell_type": "code",
   "execution_count": null,
   "metadata": {},
   "outputs": [],
   "source": [
    "l=[\"PD1+CTLA4\"]\n",
    "emt6_exp_it=emt6_exp[emt6_exp.obs.Treatment.isin(l)]\n",
    "\n",
    "l=[\"Control IgG\"]\n",
    "emt6_exp_ig=emt6_exp[emt6_exp.obs.Treatment.isin(l)]"
   ]
  },
  {
   "cell_type": "code",
   "execution_count": null,
   "metadata": {},
   "outputs": [],
   "source": [
    "emt6_exp_it=emt6_exp_it[emt6_exp_it.obs.clonal_expansion!=\"1\"]\n",
    "emt6_exp_it=emt6_exp_it[emt6_exp_it.obs.clone_id_size!=1.0]\n",
    "emt6_exp_it = emt6_exp_it[emt6_exp_it.obs[\"has_ir\"] !=\"None\", :]"
   ]
  },
  {
   "cell_type": "code",
   "execution_count": null,
   "metadata": {},
   "outputs": [],
   "source": [
    "sc.pl.umap(emt6_exp_it, color=[\"clonal_expansion\", \"clone_id_size\", \"Tcell_type\"], size=20, wspace=0.3, save=\"_clonallyexpanded_cells_EMT6_IT.png\")\n",
    "\n",
    "sc.pl.umap(emt6_exp_ig, color=[\"clonal_expansion\", \"clone_id_size\", \"Tcell_type\"], size=20, wspace=0.3, save=\"_clonallyexpanded_cells_EMT6_ig.png\")"
   ]
  },
  {
   "cell_type": "code",
   "execution_count": null,
   "metadata": {},
   "outputs": [],
   "source": [
    "ir.pl.clonal_expansion(emt6_exp_it, groupby=\"Tcell_type\", clip_at=4, normalize=False, figsize=(8, 4))\n",
    "plt.savefig(figdir+\"clonal_expansion_byTcell_Type_emt6_it.png\", bbox_inches=\"tight\")"
   ]
  },
  {
   "cell_type": "code",
   "execution_count": null,
   "metadata": {},
   "outputs": [],
   "source": [
    "ir.pl.group_abundance(emt6_exp_it, groupby=\"cc_aa_alignment\", target_col=\"Tcell_type\", max_cols=10)\n",
    "plt.savefig(figdir+\"emt6_IT_clonotype_aa_celltype.png\", bbox_inches=\"tight\")\n",
    "\n",
    "ir.pl.group_abundance(emt6_exp_it, groupby=\"cc_aa_alignment\", target_col=\"Tcell_type\", max_cols=10, normalize=True)\n",
    "plt.savefig(figdir+\"emt6_IT_clonotype_aa_celltype_normalised.png\", bbox_inches=\"tight\")"
   ]
  },
  {
   "cell_type": "code",
   "execution_count": null,
   "metadata": {},
   "outputs": [],
   "source": [
    "ir.pl.group_abundance(emt6_exp_it, groupby=\"clone_id\", target_col=\"Tcell_type\", max_cols=10)\n",
    "plt.savefig(figdir+\"emt6_IT_clone_id_celltype.png\", bbox_inches=\"tight\")\n",
    "\n",
    "ir.pl.group_abundance(emt6_exp_it, groupby=\"clone_id\", target_col=\"Tcell_type\", max_cols=10, normalize=True)\n",
    "plt.savefig(figdir+\"emt6_IT_clone_id_celltype_normalised.png\", bbox_inches=\"tight\")"
   ]
  },
  {
   "cell_type": "code",
   "execution_count": null,
   "metadata": {},
   "outputs": [],
   "source": [
    "l=[\"Tfh\"]\n",
    "emt6_exp_it_tfh=emt6_exp_it[emt6_exp_it.obs.Tcell_type.isin(l)]"
   ]
  },
  {
   "cell_type": "code",
   "execution_count": null,
   "metadata": {},
   "outputs": [],
   "source": [
    "sc.pl.umap(emt6_exp_it, color=\"clone_id\", size=20, groups=\"16000\")\n",
    "sc.pl.umap(emt6_exp_it, color=\"Tcell_type\", size=20)"
   ]
  },
  {
   "cell_type": "code",
   "execution_count": null,
   "metadata": {},
   "outputs": [],
   "source": [
    "ir.pl.group_abundance(emt6_exp_ig, groupby=\"cc_aa_alignment\", target_col=\"Tcell_type\", max_cols=10)\n",
    "plt.savefig(figdir+\"emt6_IgG_clonotype_aa_celltype.png\", bbox_inches=\"tight\")\n",
    "\n",
    "ir.pl.group_abundance(emt6_exp_ig, groupby=\"cc_aa_alignment\", target_col=\"Tcell_type\", max_cols=10, normalize=True)\n",
    "plt.savefig(figdir+\"emt6_IgG_clonotype_aa_celltype_normalised.png\", bbox_inches=\"tight\")"
   ]
  },
  {
   "cell_type": "code",
   "execution_count": null,
   "metadata": {},
   "outputs": [],
   "source": [
    "ir.pl.group_abundance(emt6_exp_ig, groupby=\"clone_id\", target_col=\"Tcell_type\", max_cols=10)\n",
    "plt.savefig(figdir+\"emt6_IgG_clonotype_nt_celltype.png\", bbox_inches=\"tight\")\n",
    "\n",
    "ir.pl.group_abundance(emt6_exp_ig, groupby=\"clone_id\", target_col=\"Tcell_type\", max_cols=10, normalize=True)\n",
    "plt.savefig(figdir+\"emt6_IgG_clonotype_nt_celltype_normalised.png\", bbox_inches=\"tight\")"
   ]
  },
  {
   "cell_type": "code",
   "execution_count": null,
   "metadata": {},
   "outputs": [],
   "source": [
    "ir.pp.ir_dist(\n",
    "    x4t1_exp,\n",
    "    metric=\"alignment\",\n",
    "    sequence=\"aa\",\n",
    "    cutoff=10,\n",
    ")\n",
    "\n",
    "ir.tl.define_clonotype_clusters(\n",
    "    x4t1_exp, sequence=\"aa\", metric=\"alignment\", receptor_arms=\"all\", dual_ir=\"any\"\n",
    ")\n",
    "\n",
    "ir.tl.clonotype_network(x4t1_exp, min_cells=3, sequence=\"aa\", metric=\"alignment\")"
   ]
  },
  {
   "cell_type": "code",
   "execution_count": null,
   "metadata": {},
   "outputs": [],
   "source": [
    "ir.pl.clonotype_network(\n",
    "    x4t1_exp, color=\"Tissue\", label_fontsize=9, panel_size=(7, 7), base_size=20, frameon=False)\n",
    "plt.savefig(figdir+\"4t1_clone_network_bytissue.png\", bbox_inches=\"tight\")\n",
    "\n",
    "\n",
    "ir.pl.clonotype_network(\n",
    "    x4t1_exp, color=\"Treatment\", label_fontsize=9, panel_size=(7, 7), base_size=20, frameon=False)\n",
    "plt.savefig(figdir+\"4t1_clone_network_bytreatment.png\", bbox_inches=\"tight\")\n",
    "\n",
    "\n",
    "ir.pl.clonotype_network(\n",
    "    x4t1_exp, color=\"Tcell_type\", label_fontsize=9, panel_size=(7, 7), base_size=20, frameon=False)\n",
    "plt.savefig(figdir+\"4t1_clone_network_bycell_type.png\", bbox_inches=\"tight\")"
   ]
  },
  {
   "cell_type": "code",
   "execution_count": null,
   "metadata": {},
   "outputs": [],
   "source": [
    "l=[\"PD1+CTLA4\"]\n",
    "x4t1_exp_it=x4t1_exp[x4t1_exp.obs.Treatment.isin(l)]\n",
    "\n",
    "l=[\"Control IgG\"]\n",
    "x4t1_exp_ig=x4t1_exp[x4t1_exp.obs.Treatment.isin(l)]"
   ]
  },
  {
   "cell_type": "code",
   "execution_count": null,
   "metadata": {},
   "outputs": [],
   "source": [
    "ir.pl.group_abundance(x4t1_exp_it, groupby=\"cc_aa_alignment\", target_col=\"Tcell_type\", max_cols=10)\n",
    "plt.savefig(figdir+\"x4t1_IT_clonotype_aa_celltype.png\", bbox_inches=\"tight\")\n",
    "\n",
    "ir.pl.group_abundance(x4t1_exp_it, groupby=\"cc_aa_alignment\", target_col=\"Tcell_type\", max_cols=10, normalize=True)\n",
    "plt.savefig(figdir+\"x4t1_IT_clonotype_aa_celltype_normalised.png\", bbox_inches=\"tight\")"
   ]
  },
  {
   "cell_type": "code",
   "execution_count": null,
   "metadata": {},
   "outputs": [],
   "source": [
    "ir.pl.group_abundance(x4t1_exp_it, groupby=\"clone_id\", target_col=\"Tcell_type\", max_cols=10)\n",
    "plt.savefig(figdir+\"x4t1_IT_clone_id_celltype.png\", bbox_inches=\"tight\")\n",
    "\n",
    "ir.pl.group_abundance(x4t1_exp_it, groupby=\"clone_id\", target_col=\"Tcell_type\", max_cols=10, normalize=True)\n",
    "plt.savefig(figdir+\"x4t1_IT_clone_id_celltype_normalised.png\", bbox_inches=\"tight\")"
   ]
  },
  {
   "cell_type": "code",
   "execution_count": null,
   "metadata": {},
   "outputs": [],
   "source": [
    "ir.pl.group_abundance(x4t1_exp_ig, groupby=\"cc_aa_alignment\", target_col=\"Tcell_type\", max_cols=10)\n",
    "plt.savefig(figdir+\"4t1_IgG_cc_aa_alignment_celltype.png\", bbox_inches=\"tight\")\n",
    "\n",
    "ir.pl.group_abundance(x4t1_exp_ig, groupby=\"cc_aa_alignment\", target_col=\"Tcell_type\", max_cols=10, normalize=True)\n",
    "plt.savefig(figdir+\"4t1_IgG_cc_aa_alignment_celltype_normalised.png\", bbox_inches=\"tight\")"
   ]
  },
  {
   "cell_type": "code",
   "execution_count": null,
   "metadata": {},
   "outputs": [],
   "source": [
    "ir.pl.group_abundance(x4t1_exp_ig, groupby=\"clone_id\", target_col=\"Tcell_type\", max_cols=10)\n",
    "plt.savefig(figdir+\"4t1_IgG_clone_id_celltype.png\", bbox_inches=\"tight\")\n",
    "\n",
    "ir.pl.group_abundance(x4t1_exp_ig, groupby=\"clone_id\", target_col=\"Tcell_type\", max_cols=10, normalize=True)\n",
    "plt.savefig(figdir+\"4t1_IgG_clone_id_celltype_normalised.png\", bbox_inches=\"tight\")"
   ]
  },
  {
   "attachments": {},
   "cell_type": "markdown",
   "metadata": {},
   "source": [
    "where are the tfh cells? are they in the LN or in the primary tumour?"
   ]
  },
  {
   "cell_type": "code",
   "execution_count": null,
   "metadata": {},
   "outputs": [],
   "source": [
    "ir.pl.group_abundance(x4t1_exp_it, groupby=\"cc_aa_alignment\", target_col=\"Tissue\", max_cols=10)\n",
    "plt.savefig(figdir+\"4t1_IT_clonotype_aa_tissue.png\", bbox_inches=\"tight\")\n",
    "\n",
    "ir.pl.group_abundance(x4t1_exp_ig, groupby=\"cc_aa_alignment\", target_col=\"Tissue\", max_cols=10)\n",
    "plt.savefig(figdir+\"4t1_IgG_clonotype_aa_tissue.png\", bbox_inches=\"tight\")"
   ]
  },
  {
   "cell_type": "code",
   "execution_count": null,
   "metadata": {},
   "outputs": [],
   "source": [
    "ir.pl.group_abundance(x4t1_exp_it, groupby=\"clone_id\", target_col=\"Tissue\", max_cols=10)\n",
    "plt.savefig(figdir+\"4t1_IT_clonotype_nt_tissue.png\", bbox_inches=\"tight\")\n",
    "\n",
    "ir.pl.group_abundance(x4t1_exp_ig, groupby=\"clone_id\", target_col=\"Tissue\", max_cols=10)\n",
    "plt.savefig(figdir+\"4t1_IgG_clonotype_nt_tissue.png\", bbox_inches=\"tight\")"
   ]
  },
  {
   "cell_type": "code",
   "execution_count": null,
   "metadata": {},
   "outputs": [],
   "source": [
    "ir.pl.group_abundance(emt6_exp_it, groupby=\"cc_aa_alignment\", target_col=\"Tissue\", max_cols=10)\n",
    "plt.savefig(figdir+\"emt6_IT_clonotype_aa_tissue.png\", bbox_inches=\"tight\")\n",
    "\n",
    "ir.pl.group_abundance(emt6_exp_ig, groupby=\"cc_aa_alignment\", target_col=\"Tissue\", max_cols=10)\n",
    "plt.savefig(figdir+\"emt6_IgG_clonotype_aa_tissue.png\", bbox_inches=\"tight\")"
   ]
  },
  {
   "cell_type": "code",
   "execution_count": null,
   "metadata": {},
   "outputs": [],
   "source": [
    "ir.pl.group_abundance(emt6_exp_it, groupby=\"clone_id\", target_col=\"Tissue\", max_cols=10)\n",
    "plt.savefig(figdir+\"emt6_IT_clonotype_nt_tissue.png\", bbox_inches=\"tight\")\n",
    "\n",
    "ir.pl.group_abundance(emt6_exp_ig, groupby=\"clone_id\", target_col=\"Tissue\", max_cols=10)\n",
    "plt.savefig(figdir+\"emt6_IgG_clonotype_nt_tissue.png\", bbox_inches=\"tight\")"
   ]
  },
  {
   "cell_type": "code",
   "execution_count": null,
   "metadata": {},
   "outputs": [],
   "source": [
    "# looks at all expanded cells, separated by location\n",
    "tissue_fracs = (\n",
    "    emt6_exp.obs.groupby([\"Tissue\"])\n",
    "    .apply(lambda x: x[\"Tcell_type\"].value_counts(normalize=True))\n",
    "    .unstack()\n",
    "    .melt(ignore_index=False, var_name=\"Tcell_type\", value_name=\"fraction\")\n",
    "    .reset_index()\n",
    ")\n",
    "\n",
    "tissue_fracs.loc[lambda x: x[\"fraction\"] > 0, \"Tissue\"].nunique()\n",
    "\n",
    "ch = (\n",
    "    alt.Chart(tissue_fracs)\n",
    "    .mark_bar()\n",
    "    .encode(\n",
    "        x=\"fraction\",\n",
    "        y=\"Tcell_type\",\n",
    "        color=alt.Color(\"Tissue\", legend=alt.Legend(labelLimit=1e6)),\n",
    "    )\n",
    ")\n",
    "\n",
    "ch.display()"
   ]
  },
  {
   "cell_type": "code",
   "execution_count": null,
   "metadata": {},
   "outputs": [],
   "source": [
    "tissue_fracs = (\n",
    "    x4t1_exp.obs.groupby([\"Tissue\"])\n",
    "    .apply(lambda x: x[\"Tcell_type\"].value_counts(normalize=True))\n",
    "    .unstack()\n",
    "    .melt(ignore_index=False, var_name=\"Tcell_type\", value_name=\"fraction\")\n",
    "    .reset_index()\n",
    ")\n",
    "\n",
    "tissue_fracs.loc[lambda x: x[\"fraction\"] > 0, \"Tissue\"].nunique()\n",
    "\n",
    "ch = (\n",
    "    alt.Chart(tissue_fracs)\n",
    "    .mark_bar()\n",
    "    .encode(\n",
    "        x=\"fraction\",\n",
    "        y=\"Tcell_type\",\n",
    "        color=alt.Color(\"Tissue\", legend=alt.Legend(labelLimit=1e6)),\n",
    "    )\n",
    ")\n",
    "\n",
    "ch.display()"
   ]
  },
  {
   "cell_type": "code",
   "execution_count": null,
   "metadata": {},
   "outputs": [],
   "source": [
    "#subset just primary tumour for each expanded model and make a network by cell type. Maybe the cd8 cells in the tumour or 4t1 mice are not expanded?"
   ]
  },
  {
   "cell_type": "code",
   "execution_count": null,
   "metadata": {},
   "outputs": [],
   "source": [
    "l=[\"Primary tumour\"]\n",
    "emt6_exp_pt = emt6_exp[emt6_exp.obs.Tissue.isin(l)]"
   ]
  },
  {
   "cell_type": "code",
   "execution_count": null,
   "metadata": {},
   "outputs": [],
   "source": [
    "ir.pp.ir_dist(\n",
    "    emt6_exp_pt,\n",
    "    metric=\"alignment\",\n",
    "    sequence=\"aa\",\n",
    "    cutoff=10,\n",
    ")\n",
    "\n",
    "ir.tl.define_clonotype_clusters(\n",
    "    emt6_exp_pt, sequence=\"aa\", metric=\"alignment\", receptor_arms=\"all\", dual_ir=\"any\"\n",
    ")\n",
    "\n",
    "ir.tl.clonotype_network(emt6_exp_pt, min_cells=3, sequence=\"aa\", metric=\"alignment\")"
   ]
  },
  {
   "cell_type": "code",
   "execution_count": null,
   "metadata": {},
   "outputs": [],
   "source": [
    "ir.pl.clonotype_network(\n",
    "    emt6_exp_pt, color=\"Tissue\", label_fontsize=9, panel_size=(7, 7), base_size=20, frameon=False)\n",
    "\n",
    "ir.pl.clonotype_network(\n",
    "    emt6_exp_pt, color=\"Treatment\", label_fontsize=9, panel_size=(7, 7), base_size=20, frameon=False)\n",
    "\n",
    "ir.pl.clonotype_network(\n",
    "    emt6_exp_pt, color=\"Tcell_type\", label_fontsize=9, panel_size=(7, 7), base_size=20, frameon=False)"
   ]
  },
  {
   "attachments": {},
   "cell_type": "markdown",
   "metadata": {},
   "source": [
    "The top plot shows that most of the expanded clones comes from immunotherapy treated clones. \n",
    "These clones are expressed on many cells including TFh, T effector "
   ]
  },
  {
   "cell_type": "code",
   "execution_count": null,
   "metadata": {},
   "outputs": [],
   "source": [
    "l=[\"Primary tumour\"]\n",
    "x4t1_exp_pt = x4t1_exp[x4t1_exp.obs.Tissue.isin(l)]"
   ]
  },
  {
   "cell_type": "code",
   "execution_count": null,
   "metadata": {},
   "outputs": [],
   "source": [
    "ir.pp.ir_dist(\n",
    "    x4t1_exp_pt,\n",
    "    metric=\"alignment\",\n",
    "    sequence=\"aa\",\n",
    "    cutoff=10,\n",
    ")\n",
    "\n",
    "ir.tl.define_clonotype_clusters(\n",
    "    x4t1_exp_pt, sequence=\"aa\", metric=\"alignment\", receptor_arms=\"all\", dual_ir=\"any\"\n",
    ")\n",
    "\n",
    "ir.tl.clonotype_network(x4t1_exp_pt, min_cells=3, sequence=\"aa\", metric=\"alignment\")"
   ]
  },
  {
   "cell_type": "code",
   "execution_count": null,
   "metadata": {},
   "outputs": [],
   "source": [
    "ir.pl.clonotype_network(\n",
    "    x4t1_exp_pt, color=\"Tissue\", label_fontsize=9, panel_size=(7, 7), base_size=20, frameon=False)\n",
    "\n",
    "ir.pl.clonotype_network(\n",
    "    x4t1_exp_pt, color=\"Treatment\", label_fontsize=9, panel_size=(7, 7), base_size=20, frameon=False)\n",
    "\n",
    "ir.pl.clonotype_network(\n",
    "    x4t1_exp_pt, color=\"Tcell_type\", label_fontsize=9, panel_size=(7, 7), base_size=20, frameon=False)"
   ]
  },
  {
   "attachments": {},
   "cell_type": "markdown",
   "metadata": {},
   "source": [
    "Expanded clones in both immunotherapy treated and control treated 4t1 mice.\n",
    "In control treated tumours, what cells are clonally expanded?\n",
    "#41, 45, 97, 89, 64, 49, 57"
   ]
  },
  {
   "cell_type": "code",
   "execution_count": null,
   "metadata": {},
   "outputs": [],
   "source": [
    "# lets see where the clonal expansion is in the primary tumour cells from 4t1 and emt6\n",
    "sc.pl.umap(x4t1_exp_pt, color=[\"clone_id_size\", \"clonal_expansion\", \"Tcell_type\"], size=20, wspace=0.3)\n",
    "sc.pl.umap(emt6_exp_pt, color=[\"clone_id_size\", \"clonal_expansion\", \"Tcell_type\"], size=20, wspace=0.3)"
   ]
  },
  {
   "attachments": {},
   "cell_type": "markdown",
   "metadata": {},
   "source": [
    "could be as simple as the relative absense of clonally expanded tregs and tfhs in emt6 tumours. But also less T cells in emt6s\n",
    "4t1= 398 clonally expanded intratumoural t cells\n",
    "emt6 = 180 clonally expended intratumoural t cells\n",
    "\n",
    "can i make a proportion graph within each of these models, normalised by total cell number?"
   ]
  },
  {
   "cell_type": "code",
   "execution_count": null,
   "metadata": {},
   "outputs": [],
   "source": [
    "\n",
    "tissue_fracs = (\n",
    "    emt6_exp_pt.obs.groupby([\"Treatment\"])\n",
    "    .apply(lambda x: x[\"Tcell_type\"].value_counts(normalize=True))\n",
    "    .unstack()\n",
    "    .melt(ignore_index=False, var_name=\"Tcell_type\", value_name=\"fraction\")\n",
    "    .reset_index()\n",
    ")\n",
    "\n",
    "tissue_fracs.loc[lambda x: x[\"fraction\"] > 0, \"Treatment\"].nunique()\n",
    "\n",
    "ch = (\n",
    "    alt.Chart(tissue_fracs)\n",
    "    .mark_bar()\n",
    "    .encode(\n",
    "        x=\"fraction\",\n",
    "        y=\"Tcell_type\",\n",
    "        color=alt.Color(\"Treatment\", legend=alt.Legend(labelLimit=1e6)),\n",
    "    )\n",
    ")\n",
    "\n",
    "ch.display()"
   ]
  },
  {
   "cell_type": "code",
   "execution_count": null,
   "metadata": {},
   "outputs": [],
   "source": [
    "\n",
    "tissue_fracs = (\n",
    "    x4t1_exp_pt.obs.groupby([\"Treatment\"])\n",
    "    .apply(lambda x: x[\"Tcell_type\"].value_counts(normalize=True))\n",
    "    .unstack()\n",
    "    .melt(ignore_index=False, var_name=\"Tcell_type\", value_name=\"fraction\")\n",
    "    .reset_index()\n",
    ")\n",
    "\n",
    "tissue_fracs.loc[lambda x: x[\"fraction\"] > 0, \"Treatment\"].nunique()\n",
    "\n",
    "ch = (\n",
    "    alt.Chart(tissue_fracs)\n",
    "    .mark_bar()\n",
    "    .encode(\n",
    "        x=\"fraction\",\n",
    "        y=\"Tcell_type\",\n",
    "        color=alt.Color(\"Treatment\", legend=alt.Legend(labelLimit=1e6)),\n",
    "    )\n",
    ")\n",
    "\n",
    "ch.display()"
   ]
  },
  {
   "cell_type": "code",
   "execution_count": null,
   "metadata": {},
   "outputs": [],
   "source": [
    "# # how does entropy change between treatment groups\n",
    "# ax = ir.pl.alpha_diversity(\n",
    "#     emt6_exp_ig, metric=\"normalized_shannon_entropy\", groupby=\"Tcell_type\", figsize=(8, 4))\n",
    "# #plt.savefig(figdir+\"emt6_shannondiveristy_Tcelltype.png\", bbox_inches=\"tight\")"
   ]
  },
  {
   "cell_type": "code",
   "execution_count": null,
   "metadata": {},
   "outputs": [],
   "source": [
    "# ax = ir.pl.alpha_diversity(\n",
    "#     emt6_exp_it, metric=\"normalized_shannon_entropy\", groupby=\"Tcell_type\", figsize=(8, 4))"
   ]
  },
  {
   "cell_type": "code",
   "execution_count": null,
   "metadata": {},
   "outputs": [],
   "source": [
    "# ax = ir.pl.alpha_diversity(\n",
    "#     x4t1_exp_ig, metric=\"normalized_shannon_entropy\", groupby=\"Tcell_type\", figsize=(8, 4))"
   ]
  },
  {
   "cell_type": "code",
   "execution_count": null,
   "metadata": {},
   "outputs": [],
   "source": [
    "# ax = ir.pl.alpha_diversity(\n",
    "#     x4t1_exp_it, metric=\"normalized_shannon_entropy\", groupby=\"Tcell_type\", figsize=(8, 4))"
   ]
  },
  {
   "cell_type": "code",
   "execution_count": null,
   "metadata": {},
   "outputs": [],
   "source": []
  },
  {
   "attachments": {},
   "cell_type": "markdown",
   "metadata": {},
   "source": [
    "Is the clone 16000 truely found on  tfh or is it a cd8 positive cell that looks like a tfh?"
   ]
  },
  {
   "cell_type": "code",
   "execution_count": null,
   "metadata": {},
   "outputs": [],
   "source": [
    "sc.pl.umap(emt6_exp_it, color=\"clone_id\", groups=\"16000\", size=25, frameon=False, save=\"_16000_clone_id.png\")\n",
    "sc.pl.umap(emt6_exp_it, color=[\"Cd8a\", \"Cd4\"], size=25, frameon=False, save=\"_16000_CD8_CD8.png\")\n",
    "sc.pl.umap(emt6_exp_it, color=[\"Tcell_type\"], size=25, frameon=False, save=\"_16000_Tcelltype.png\")"
   ]
  },
  {
   "cell_type": "code",
   "execution_count": null,
   "metadata": {},
   "outputs": [],
   "source": [
    "sc.pl.umap(emt6_exp_it, color=[\"Cd274\", \"Cd40lg\", \"Icos\", \"Cxcr3\"], size=20, frameon=False, save=\"_16000_tfh_markers.png\")"
   ]
  },
  {
   "cell_type": "code",
   "execution_count": null,
   "metadata": {},
   "outputs": [],
   "source": [
    "# or is it easier if I subset clone 16000 and do it that way?\n",
    "l=[\"16000\"]\n",
    "x16=emt6_exp_it[emt6_exp_it.obs.clone_id.isin(l)]"
   ]
  },
  {
   "cell_type": "code",
   "execution_count": null,
   "metadata": {},
   "outputs": [],
   "source": [
    "sc.pl.umap(x16, color=\"Tcell_type\", size=70, save=\"_x16_tcelltype.png\")"
   ]
  },
  {
   "cell_type": "code",
   "execution_count": null,
   "metadata": {},
   "outputs": [],
   "source": [
    "sc.pl.umap(x16, color=\"clone_id\", size=70, save=\"_x16.png\")"
   ]
  },
  {
   "cell_type": "code",
   "execution_count": null,
   "metadata": {},
   "outputs": [],
   "source": [
    "sc.pl.umap(x16, color=[\"Cd8a\", \"Cd4\"], size=70, vmin=0, vmax=3, save=\"_x16_cd8cd4.png\")"
   ]
  },
  {
   "cell_type": "code",
   "execution_count": null,
   "metadata": {},
   "outputs": [],
   "source": [
    "sc.pl.umap(x16, color=[\"Cd274\", \"Cd40lg\", \"Icos\", \"Cxcr3\"], size=20, save=\"_x16_tfh_markers.png\")"
   ]
  },
  {
   "cell_type": "code",
   "execution_count": null,
   "metadata": {},
   "outputs": [],
   "source": [
    "sc.pl.umap(emt6_exp_it, color=[\"Cd8a\", \"Cd4\", \"Tcell_type\"], size=20, save=\"_emt6_exp_it_cd8cd4tcelltype.png\")"
   ]
  },
  {
   "cell_type": "code",
   "execution_count": null,
   "metadata": {},
   "outputs": [],
   "source": [
    "x16"
   ]
  },
  {
   "attachments": {},
   "cell_type": "markdown",
   "metadata": {},
   "source": [
    "In the 4t1 mice, is there truly a shared receptor between tfh and treg?"
   ]
  },
  {
   "cell_type": "code",
   "execution_count": null,
   "metadata": {},
   "outputs": [],
   "source": [
    "sc.pl.umap(x4t1_exp_it, color=\"clone_id\", groups=\"390\", size=30)"
   ]
  },
  {
   "cell_type": "code",
   "execution_count": null,
   "metadata": {},
   "outputs": [],
   "source": [
    "l=[\"390\"]\n",
    "x390=x4t1_exp_it[x4t1_exp_it.obs.clone_id.isin(l)]"
   ]
  },
  {
   "cell_type": "code",
   "execution_count": null,
   "metadata": {},
   "outputs": [],
   "source": [
    "sc.pl.umap(x390, color=[\"Tcell_type\", \"Cd40lg\", \"Foxp3\"], size=30)"
   ]
  }
 ],
 "metadata": {
  "kernelspec": {
   "display_name": "scanpy",
   "language": "python",
   "name": "python3"
  },
  "language_info": {
   "codemirror_mode": {
    "name": "ipython",
    "version": 3
   },
   "file_extension": ".py",
   "mimetype": "text/x-python",
   "name": "python",
   "nbconvert_exporter": "python",
   "pygments_lexer": "ipython3",
   "version": "3.9.13"
  },
  "orig_nbformat": 4,
  "vscode": {
   "interpreter": {
    "hash": "7c7f278c8d9bf9351652e64bc3e056cf405fcbe39730c7a3ac9dd70c303fd942"
   }
  }
 },
 "nbformat": 4,
 "nbformat_minor": 2
}
