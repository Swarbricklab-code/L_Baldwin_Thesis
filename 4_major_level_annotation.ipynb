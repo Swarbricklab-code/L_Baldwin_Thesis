{
 "cells": [
  {
   "cell_type": "code",
   "execution_count": null,
   "metadata": {},
   "outputs": [],
   "source": [
    "# Script for the major level annotation of clustered single cell data.\n",
    "# By Louise Baldwin\n",
    "# takes clustered merged h5ad as input, requires previously generates list of DEGs. Output is annotated h5ad"
   ]
  },
  {
   "cell_type": "code",
   "execution_count": null,
   "metadata": {},
   "outputs": [],
   "source": [
    "###################\n",
    "# Set up\n",
    "###################\n",
    "\n",
    "# import packages\n",
    "import numpy as np\n",
    "import pandas as pd\n",
    "import scanpy as sc\n",
    "import os\n",
    "import seaborn as sns\n",
    "import matplotlib.pyplot as plt\n",
    "from matplotlib import rcParams\n",
    "from numpy import sin\n",
    "\n",
    "# directories\n",
    "os.chdir(\"/share/ScratchGeneral/loubal/projects/MSC/mouse-single-cell\")\n",
    "in_file = (\"data/processed/clustered_merged_umap.h5ad\")\n",
    "results_file = (\"data/processed/annotated.h5ad\")\n",
    "figdir = (\"outs/4_major_annotation/figures/\")\n",
    "tabdir = (\"outs/4_major_annotation/tables/\")\n",
    "os.makedirs(figdir, exist_ok=True)\n",
    "os.makedirs(tabdir, exist_ok=True)\n",
    "\n",
    "# set parameters for scanpy\n",
    "# verbosity: errors (0), warnings (1), info (2), hints (3), detailed traceback (4)\n",
    "# change default figdir to desired figdir\n",
    "sc.settings.verbosity = 2            \n",
    "sc.logging.print_header()\n",
    "sc.settings.set_figure_params(dpi=300, facecolor='white')\n",
    "#sc.set_figure_params(facecolor='white', color_map=\"viridis\")\n",
    "#sc.settings.figdir='/share/ScratchGeneral/loubal/projects/MSC/mouse-single-cell/outs/QC/figures/'\n",
    "sc.settings.figdir=figdir"
   ]
  },
  {
   "cell_type": "code",
   "execution_count": null,
   "metadata": {},
   "outputs": [],
   "source": [
    "adata=sc.read_h5ad(in_file)\n",
    "adata"
   ]
  },
  {
   "cell_type": "code",
   "execution_count": null,
   "metadata": {},
   "outputs": [],
   "source": [
    "sc.pl.umap(adata, color=\"leiden_0.3\", frameon=False, save=\"_leiden03.pdf\")"
   ]
  },
  {
   "cell_type": "code",
   "execution_count": null,
   "metadata": {},
   "outputs": [],
   "source": [
    "#plot cluster at leiden with labels on clusters\n",
    "sc.pl.umap(adata, color=['leiden'], size=1, legend_loc='on data', legend_fontsize='small',\n",
    "show=False, wspace=0.5, frameon=False,  title='leiden', save=\"leiden_labelled_ondata.png\")#.savefig(sc.settings.figdir/\"umap_leiden_0.3_labelled_ondata.png\", bbox_inches='tight')\n",
    "\n",
    "sc.pl.umap(adata, color=['leiden'], size=1, legend_fontsize='small',\n",
    "show=False, wspace=0.5, frameon=False, title='leiden', save=\"leiden_labelled.png\")#.savefig(sc.settings.figdir/\"umap_leiden_0.3_labelled.png\", bbox_inches='tight')\n"
   ]
  },
  {
   "cell_type": "code",
   "execution_count": null,
   "metadata": {},
   "outputs": [],
   "source": [
    "#Plot marker genes\n",
    "sc.pl.rank_genes_groups(adata, key='rank_genes', groups=['0','1','2'], fontsize=10)\n",
    "sc.pl.rank_genes_groups(adata, key='rank_genes', groups=['3','4','5'], fontsize=10)\n",
    "sc.pl.rank_genes_groups(adata, key='rank_genes', groups=['6', '7', '8'], fontsize=10)\n",
    "sc.pl.rank_genes_groups(adata, key='rank_genes', groups=['9', '10', '11'], fontsize=10)\n",
    "sc.pl.rank_genes_groups(adata, key='rank_genes', groups=['12', '13', '14'], fontsize=10)\n",
    "sc.pl.rank_genes_groups(adata, key='rank_genes', groups=['15', '16', '17'], fontsize=10)\n",
    "sc.pl.rank_genes_groups(adata, key='rank_genes', groups=['18', '19', '20'], fontsize=10)\n",
    "sc.pl.rank_genes_groups(adata, key='rank_genes', groups=['21', '22', '23'], fontsize=10)"
   ]
  },
  {
   "cell_type": "code",
   "execution_count": null,
   "metadata": {},
   "outputs": [],
   "source": [
    "sc.pl.umap(adata, color=\"leiden\")"
   ]
  },
  {
   "cell_type": "code",
   "execution_count": null,
   "metadata": {},
   "outputs": [],
   "source": [
    "#rcParams['figure.figsize']=(7,7)\n",
    "# sc.pl.umap(adata, color='Foxp3', use_raw=False, color_map=\"RdPu\")\n",
    "# sc.pl.umap(adata, color='Cd8a', use_raw=False, color_map=\"RdPu\")\n",
    "# sc.pl.umap(adata, color='Cd4', use_raw=False, color_map=\"RdPu\")\n",
    "# sc.pl.umap(adata, color='Adgre1', use_raw=False, color_map=\"RdPu\")\n",
    "# sc.pl.umap(adata, color='Cxcl3', use_raw=False, color_map=\"RdPu\")\n",
    "#epithelial\n",
    "# sc.pl.umap(adata, color=[\"Krt18\", \"Ccnd1\", \"Muc1\"], save=\"_epithelial_markers.png\")\n",
    "sc.pl.umap(adata, color=[\"Krt8\", \"Krt19\", \"Krt7\"], save=\"_epithelial_markers_2.png\")\n",
    "# fibroblast\n",
    "# sc.pl.umap(adata, color=[\"Col1a1\", \"Acta2\", \"Vim\"], save=\"_fibroblast_markers.png\")\n",
    "# #B cells\n",
    "# sc.pl.umap(adata, color=[\"Ptprc\", \"Cd19\", \"Ighm\"], save=\"_Bcell_markers.png\")\n",
    "# # T cells\n",
    "# sc.pl.umap(adata, color=[\"Cd4\", \"Cd8a\", \"Foxp3\"], save=\"_Tcell_markers.png\")\n",
    "# # myeloid\n",
    "# sc.pl.umap(adata, color=[\"Itgam\", \"Adgre1\", \"Ly6c1\"], save=\"_myeloid_markers.png\")\n",
    "# # other\n",
    "# sc.pl.umap(adata, color=[\"Ncr1\", \"Srgn\", \"Siglech\"], save=\"other_markers.png\")\n"
   ]
  },
  {
   "cell_type": "code",
   "execution_count": null,
   "metadata": {},
   "outputs": [],
   "source": [
    "sc.pl.umap(adata, color=\"leiden_0.3\")"
   ]
  },
  {
   "cell_type": "code",
   "execution_count": null,
   "metadata": {},
   "outputs": [],
   "source": [
    "cluster2annotation = {\n",
    "     '0': 'CD4 T cell',\n",
    "     '1': 'B cell',\n",
    "     '2': 'CD8 T cell',\n",
    "     '3': 'Epithelial', \n",
    "     '4': 'CD4 T cell',\n",
    "     '5': 'Myoepithelial',\n",
    "     '6': 'Myoepithelial',\n",
    "     '7': 'Myeloid',\n",
    "     '8': 'Mast cell',\n",
    "     '9': 'NK cell',\n",
    "     '10': 'CD4 T cell',\n",
    "     '11': 'Fibroblast',\n",
    "     '12': 'Epithelial',\n",
    "     '13': 'B cell',\n",
    "     '14': 'pDC',\n",
    "     '15': 'Unknown',\n",
    "     '16': 'B cell',\n",
    "     '17': 'Myeloid',\n",
    "     '18': 'B cell',\n",
    "     '19': 'Myeloid',\n",
    "     '20': 'Myoepithelial',\n",
    "     '21': 'Myoepithelial',\n",
    "     '22': 'Epithelial',\n",
    "     '23': 'Epithelial',\n",
    "}\n",
    "\n",
    "\n",
    "adata.obs['Cell_type'] = adata.obs['leiden_0.3'].map(cluster2annotation).astype('category')"
   ]
  },
  {
   "cell_type": "code",
   "execution_count": null,
   "metadata": {},
   "outputs": [],
   "source": [
    "adata = sc.read_h5ad(results_file)"
   ]
  },
  {
   "cell_type": "code",
   "execution_count": null,
   "metadata": {},
   "outputs": [],
   "source": [
    "#rcParams['figure.figsize']=(7,7)\n",
    "\n",
    "sc.pl.umap(adata, color=['Cell_type'], frameon=False, save=\"_major_annotation.pdf\")\n",
    "\n",
    "# sc.pl.umap(adata, color=['mcCell_type'], size=1,\n",
    "#  show=False, return_fig=True, ncols=2, wspace=0.8, \n",
    "#    title='Major level annotation').savefig(sc.settings.figdir/\"annotated_leiden_0.3.png\")"
   ]
  },
  {
   "cell_type": "code",
   "execution_count": null,
   "metadata": {},
   "outputs": [],
   "source": [
    "adata"
   ]
  },
  {
   "cell_type": "code",
   "execution_count": null,
   "metadata": {},
   "outputs": [],
   "source": [
    "# adata.obs['mcCell_type'].value_counts()\n",
    "# adata.obs['mcCell_type'].value_counts()\n",
    "pd.crosstab(adata.obs['Tissue'], adata.obs['Cell_type'])\n",
    "pd.crosstab(adata.obs['ReactionID'], adata.obs['Cell_type'])\n",
    "\n",
    "pd.crosstab(adata.obs['Tissue'], adata.obs['Cell_type']).to_csv(tabdir+'cells_per_tissue.csv')\n",
    "pd.crosstab(adata.obs['ReactionID'], adata.obs['Cell_type']).to_csv(tabdir+'cells_per_reaction.csv')\n",
    "\n",
    "# markers.to_csv(tabdir+'cells_per_tissue.csv')"
   ]
  },
  {
   "cell_type": "code",
   "execution_count": null,
   "metadata": {},
   "outputs": [],
   "source": [
    "pd.crosstab(adata.obs['Model'],adata.obs['Cell_type']).to_csv(tabdir+'cells_per_model.csv')"
   ]
  },
  {
   "cell_type": "code",
   "execution_count": null,
   "metadata": {},
   "outputs": [],
   "source": [
    "pd.crosstab(adata.obs['Tissue'], adata.obs['Cell_type'])\n",
    "pd.crosstab(adata.obs['ReactionID'], adata.obs['Cell_type'])"
   ]
  },
  {
   "cell_type": "code",
   "execution_count": null,
   "metadata": {},
   "outputs": [],
   "source": [
    "# sns.set(rc={\"figure.figsize\":(15, 3)}) #width=3, #height=4\n",
    "\n",
    "counts = adata.obs.groupby(['Cell_type']).count().reset_index().sort_values('n_counts', ascending=False)\n",
    "sns.set_context(\"paper\")\n",
    "sns.despine()\n",
    "plt.figure(figsize = (8,3))\n",
    "ax = sns.barplot(x = 'Cell_type', y = 'n_counts', data = counts, order=counts[\"Cell_type\"])\n",
    "#ax.set_yscale(\"log\")\n",
    "ax.grid(False)\n",
    "ax.bar_label(ax.containers[0], fontsize=9)\n",
    "plt.xticks(rotation=90)\n",
    "plt.savefig((figdir+\"cells_per_cell_type.pdf\"), bbox_inches=\"tight\")"
   ]
  },
  {
   "cell_type": "code",
   "execution_count": null,
   "metadata": {},
   "outputs": [],
   "source": [
    "#save new annotated figure\n",
    "adata.write_h5ad(results_file)"
   ]
  },
  {
   "cell_type": "code",
   "execution_count": null,
   "metadata": {},
   "outputs": [],
   "source": [
    "in_file=results_file\n",
    "adata = sc.read_h5ad(in_file)"
   ]
  },
  {
   "cell_type": "code",
   "execution_count": null,
   "metadata": {},
   "outputs": [],
   "source": [
    "sc.pl.umap(adata, color=\"Cell_type\", frameon=False, save=\"_annotated.pdf\")"
   ]
  },
  {
   "cell_type": "code",
   "execution_count": null,
   "metadata": {},
   "outputs": [],
   "source": [
    "# figuring out the myofibroblast cluster\n",
    "# are they myoepithelial cells?\n",
    "sc.pl.umap(adata, color=[\"Tagln\", \"Oxtr\", \"Mme\"], save=\"_myoepithelial_markers.pdf\")"
   ]
  },
  {
   "cell_type": "code",
   "execution_count": null,
   "metadata": {},
   "outputs": [],
   "source": [
    "sc.pl.umap(adata, color=[\"Acta2\", \"Pdpn\", \"Cxcl12\"], save=\"_icaf_mycaf_markers.pdf\")"
   ]
  },
  {
   "cell_type": "code",
   "execution_count": null,
   "metadata": {},
   "outputs": [],
   "source": [
    "sc.pl.umap(adata, color=[\"Krt5\", \"Krt14\", \"Krt17\"])\n",
    "sc.pl.umap(adata, color=[\"Krt8\", \"Krt18\", \"Krt19\"])"
   ]
  },
  {
   "cell_type": "code",
   "execution_count": null,
   "metadata": {},
   "outputs": [],
   "source": [
    "sc.pl.umap(adata, color=\"Treatment\")"
   ]
  }
 ],
 "metadata": {
  "kernelspec": {
   "display_name": "Python 3.9.13 ('scanpy')",
   "language": "python",
   "name": "python3"
  },
  "language_info": {
   "codemirror_mode": {
    "name": "ipython",
    "version": 3
   },
   "file_extension": ".py",
   "mimetype": "text/x-python",
   "name": "python",
   "nbconvert_exporter": "python",
   "pygments_lexer": "ipython3",
   "version": "3.9.13"
  },
  "orig_nbformat": 4,
  "vscode": {
   "interpreter": {
    "hash": "7c7f278c8d9bf9351652e64bc3e056cf405fcbe39730c7a3ac9dd70c303fd942"
   }
  }
 },
 "nbformat": 4,
 "nbformat_minor": 2
}
