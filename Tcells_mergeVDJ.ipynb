{
 "cells": [
  {
   "cell_type": "code",
   "execution_count": null,
   "metadata": {},
   "outputs": [],
   "source": [
    "# script for adding TCR data to subsetted t cells\n",
    "# by Louise Baldwin\n",
    "# using Scirpy\n"
   ]
  },
  {
   "cell_type": "code",
   "execution_count": null,
   "metadata": {},
   "outputs": [],
   "source": [
    "# set up\n",
    "import scanpy as sc\n",
    "import sys\n",
    "import scirpy as ir\n",
    "from multiprocessing import Pool\n",
    "import os\n",
    "import pandas as pd\n",
    "from glob import glob\n",
    "import numpy as np\n",
    "\n",
    "sc.settings.verbosity = 3             \n",
    "sc.logging.print_header()\n",
    "sc.settings.set_figure_params(dpi=80, facecolor='white')\n",
    "\n",
    "# make directory structure\n",
    "os.chdir(\"/share/ScratchGeneral/loubal/projects/MSC/mouse-single-cell/\")\n",
    "cellranger = (\"data/raw/single-cell/\")\n",
    "in_file =(\"data/processed/Subset_Tcells_BBKNN_annotated.h5ad\")\n",
    "results_file = (\"data/processed/Tcells_withTCR.h5ad\")\n",
    "tabdir = (\"outs/Tcells_withTCR/tables/\")\n",
    "os.makedirs(tabdir, exist_ok=True)\n"
   ]
  },
  {
   "cell_type": "code",
   "execution_count": null,
   "metadata": {},
   "outputs": [],
   "source": [
    "adata=sc.read(in_file)"
   ]
  },
  {
   "cell_type": "code",
   "execution_count": null,
   "metadata": {},
   "outputs": [],
   "source": [
    "sc.pl.umap(adata, color=['leiden_1', 'Tcell_type'])"
   ]
  },
  {
   "cell_type": "code",
   "execution_count": null,
   "metadata": {},
   "outputs": [],
   "source": [
    "adata_tcr1 = ir.io.read_10x_vdj(cellranger + \"Ms_i_4T1_LN01/filtered_contig_annotations.csv\")                              # write a cache file for faster subsequent reading\n",
    "\n",
    "adata_tcr2 = ir.io.read_10x_vdj(cellranger + \"Ms_i_4T1_LN02/filtered_contig_annotations.csv\")\n",
    "\n",
    "adata_tcr3 = ir.io.read_10x_vdj(cellranger + \"Ms_i_4T1_LN03/filtered_contig_annotations.csv\")\n",
    "\n",
    "adata_tcr4 = ir.io.read_10x_vdj(cellranger +\"Ms_i_4T1_LN04/filtered_contig_annotations.csv\")\n",
    "\n",
    "adata_tcr5 = ir.io.read_10x_vdj(cellranger + \"Ms_i_4T1_LN05/filtered_contig_annotations.csv\")\n",
    "\n",
    "adata_tcr6 = ir.io.read_10x_vdj(cellranger + \"Ms_i_4T1_T01/filtered_contig_annotations.csv\")\n",
    "\n",
    "adata_tcr7 = ir.io.read_10x_vdj(cellranger + \"Ms_i_4T1_T02/filtered_contig_annotations.csv\")\n",
    "\n",
    "adata_tcr8 = ir.io.read_10x_vdj(cellranger + \"Ms_i_4T1_T03/filtered_contig_annotations.csv\")\n",
    "\n",
    "adata_tcr9 = ir.io.read_10x_vdj(cellranger + \"Ms_i_4T1_T04/filtered_contig_annotations.csv\")\n",
    "\n",
    "adata_tcr10 = ir.io.read_10x_vdj(cellranger + \"Ms_i_4T1_T05/filtered_contig_annotations.csv\")\n",
    "\n",
    "adata_tcr11 = ir.io.read_10x_vdj(cellranger + \"Ms_i_EMT6_LN01/filtered_contig_annotations.csv\")\n",
    "\n",
    "adata_tcr12 = ir.io.read_10x_vdj(cellranger + \"Ms_i_EMT6_LN02/filtered_contig_annotations.csv\")\n",
    "\n",
    "adata_tcr13 = ir.io.read_10x_vdj(cellranger + \"Ms_i_EMT6_LN03/filtered_contig_annotations.csv\")\n",
    "\n",
    "adata_tcr14 = ir.io.read_10x_vdj(cellranger + \"Ms_i_EMT6_LN04/filtered_contig_annotations.csv\")\n",
    "\n",
    "adata_tcr15 = ir.io.read_10x_vdj(cellranger + \"Ms_i_EMT6_LN05/filtered_contig_annotations.csv\")\n",
    "\n",
    "adata_tcr16 = ir.io.read_10x_vdj(cellranger + \"Ms_i_EMT6_T01/filtered_contig_annotations.csv\")\n",
    "\n",
    "adata_tcr17 = ir.io.read_10x_vdj(cellranger +\"Ms_i_EMT6_T02A/filtered_contig_annotations.csv\")\n",
    "\n",
    "adata_tcr18 = ir.io.read_10x_vdj(cellranger + \"Ms_i_EMT6_T02B/filtered_contig_annotations.csv\")\n",
    "\n",
    "adata_tcr19 = ir.io.read_10x_vdj(cellranger + \"Ms_i_EMT6_T03_1/filtered_contig_annotations.csv\")\n",
    "\n",
    "adata_tcr20 = ir.io.read_10x_vdj(cellranger + \"Ms_i_EMT6_T03_2/filtered_contig_annotations.csv\")\n",
    "\n",
    "adata_tcr21 = ir.io.read_10x_vdj(cellranger + \"Ms_i_EMT6_T04_1/filtered_contig_annotations.csv\")\n",
    "    \n",
    "adata_tcr22 = ir.io.read_10x_vdj(cellranger + \"Ms_i_EMT6_T04_2/filtered_contig_annotations.csv\")\n",
    "\n",
    "adata_tcr23 = ir.io.read_10x_vdj(cellranger + \"Ms_i_EMT6_T05/filtered_contig_annotations.csv\")"
   ]
  },
  {
   "cell_type": "code",
   "execution_count": null,
   "metadata": {},
   "outputs": [],
   "source": [
    "adata_tcr = adata_tcr1.concatenate(adata_tcr2, adata_tcr3, adata_tcr4, adata_tcr5, adata_tcr6, adata_tcr7, adata_tcr8, adata_tcr9, adata_tcr10, adata_tcr11,\n",
    "    adata_tcr12, adata_tcr13, adata_tcr14, adata_tcr15, adata_tcr16, adata_tcr17, adata_tcr18, adata_tcr19, adata_tcr20, adata_tcr21,\n",
    "     adata_tcr22, adata_tcr23)"
   ]
  },
  {
   "cell_type": "code",
   "execution_count": null,
   "metadata": {},
   "outputs": [],
   "source": [
    "ir.pp.merge_with_ir(adata, adata_tcr)\n"
   ]
  },
  {
   "cell_type": "code",
   "execution_count": null,
   "metadata": {},
   "outputs": [],
   "source": [
    "adata.obs"
   ]
  },
  {
   "cell_type": "code",
   "execution_count": null,
   "metadata": {},
   "outputs": [],
   "source": [
    "adata.write(results_file)"
   ]
  }
 ],
 "metadata": {
  "kernelspec": {
   "display_name": "scanpy",
   "language": "python",
   "name": "python3"
  },
  "language_info": {
   "codemirror_mode": {
    "name": "ipython",
    "version": 3
   },
   "file_extension": ".py",
   "mimetype": "text/x-python",
   "name": "python",
   "nbconvert_exporter": "python",
   "pygments_lexer": "ipython3",
   "version": "3.9.13"
  },
  "orig_nbformat": 4,
  "vscode": {
   "interpreter": {
    "hash": "7c7f278c8d9bf9351652e64bc3e056cf405fcbe39730c7a3ac9dd70c303fd942"
   }
  }
 },
 "nbformat": 4,
 "nbformat_minor": 2
}
