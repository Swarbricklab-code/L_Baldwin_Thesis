{
 "cells": [
  {
   "cell_type": "code",
   "execution_count": null,
   "metadata": {},
   "outputs": [],
   "source": [
    "# Script for running BBKNN on subsetted T cells \n",
    "# By Louise Baldwin\n",
    "# Takes annotated .h5ad as input"
   ]
  },
  {
   "cell_type": "code",
   "execution_count": null,
   "metadata": {},
   "outputs": [],
   "source": [
    "# Script for testing the batch correction of T cells using BBKNN\n",
    "# By Louise Baldwin\n",
    "# takes annotated h5ad as input.###################\n",
    "# Set up\n",
    "###################\n",
    "\n",
    "# import packages\n",
    "import numpy as np\n",
    "import pandas as pd\n",
    "import scanpy as sc\n",
    "import seaborn as sns\n",
    "import os\n",
    "import bbknn as bb\n",
    "# import scvelo as scv\n",
    "import scipy as sp\n",
    "import matplotlib.pyplot as plt\n",
    "from matplotlib.pyplot import rc_context\n",
    "\n",
    "import anndata\n",
    "import joblib\n",
    "import sys\n",
    "\n",
    "from matplotlib import rcParams\n",
    "from numpy import sin\n",
    "from tqdm.auto import tqdm\n",
    "# from plotnine import *\n",
    "# from sctoolkit.specificity import get_gene_specificity_metricsv2\n",
    "# from sctoolkit.sctransform import sctransform\n",
    "# from sctoolkit.utils import run_spring, dotplot_spring, sort_by_correlation, plot_significance_dotplot\n",
    "# from sctoolkit.revigo import revigo\n",
    "# from sctoolkit.proportions import plot_proportion_barplot, dirichletreg, plot_proportion_barplot_with_ncells, get_proportions_per_channel\n",
    "\n",
    "# # directories\n",
    "os.chdir(\"/share/ScratchGeneral/loubal/projects/MSC/mouse-single-cell\")\n",
    "in_file = (\"data/processed/annotated.h5ad\")\n",
    "results_file = (\"data/processed/Subset_Tcells_BBKNN.h5ad\")\n",
    "figdir = (\"outs/BBKNN_after_Tcellsubset/figures/\")\n",
    "tabdir = (\"outs/BBKNN_after_Tcellsubset/tables/\")\n",
    "os.makedirs(figdir, exist_ok=True)\n",
    "os.makedirs(tabdir, exist_ok=True)\n",
    "\n",
    "# set parameters for scanpy\n",
    "# verbosity: errors (0), warnings (1), info (2), hints (3), detailed traceback (4)\n",
    "# change default figdir to desired figdir\n",
    "sc.settings.verbosity = 3           \n",
    "sc.logging.print_header()\n",
    "sc.settings.set_figure_params(dpi=80, facecolor='white')\n",
    "#sc.set_figure_params(facecolor='white', color_map=\"viridis\")\n",
    "#sc.settings.figdir='/share/ScratchGeneral/loubal/projects/MSC/mouse-single-cell/outs/QC/figures/'\n",
    "sc.settings.figdir=figdir\n",
    "# scv.set_figure_params(vector_friendly=False)"
   ]
  },
  {
   "cell_type": "code",
   "execution_count": null,
   "metadata": {},
   "outputs": [],
   "source": [
    "ad=sc.read(in_file)"
   ]
  },
  {
   "cell_type": "code",
   "execution_count": null,
   "metadata": {},
   "outputs": [],
   "source": [
    "ad"
   ]
  },
  {
   "cell_type": "code",
   "execution_count": null,
   "metadata": {},
   "outputs": [],
   "source": [
    "sc.pl.umap(ad, color=\"Cell_type\")"
   ]
  },
  {
   "cell_type": "code",
   "execution_count": null,
   "metadata": {},
   "outputs": [],
   "source": [
    "l = ['CD4 T cell', 'CD8 T cell']\n",
    "adata =ad[ad.obs.Cell_type.isin(l)]"
   ]
  },
  {
   "cell_type": "code",
   "execution_count": null,
   "metadata": {},
   "outputs": [],
   "source": [
    "sc.pp.log1p(adata)\n",
    "adata = adata[:, adata.var.highly_variable]\n",
    "sc.pp.scale(adata, max_value=10)\n",
    "sc.pp.neighbors(adata, n_neighbors=10, n_pcs=10)\n",
    "sc.tl.umap(adata)\n",
    "sc.tl.leiden(adata, resolution = 0.8, key_added = \"leiden_0.8\")\n",
    "sc.pl.umap(adata,color=['leiden_0.8'],legend_loc='on data')"
   ]
  },
  {
   "cell_type": "code",
   "execution_count": null,
   "metadata": {},
   "outputs": [],
   "source": [
    "sc.pl.umap(adata, color=['Cd8a','Cd4','Foxp3','Ncr1','Tigit', 'Pdcd1', 'Tcf7', 'Icos', 'Tox', 'Cd40lg', 'Sell', 'Ncam1', 'Cxcr5', 'Ifng', 'Gata3', 'Bcl6', 'Mki67', \"leiden_0.8\"],\n",
    " s=10, color_map='viridis',legend_loc='on data', legend_fontsize='small', wspace=0.3, save=\"_markers-beforeBBKNN.pdf\")"
   ]
  },
  {
   "cell_type": "code",
   "execution_count": null,
   "metadata": {},
   "outputs": [],
   "source": [
    "sc.pl.umap(adata, frameon=False, color=\"batch\", save=\"Tcells_before_BBKNN.pdf\")"
   ]
  },
  {
   "cell_type": "code",
   "execution_count": null,
   "metadata": {},
   "outputs": [],
   "source": [
    "bb.bbknn(adata)"
   ]
  },
  {
   "cell_type": "code",
   "execution_count": null,
   "metadata": {},
   "outputs": [],
   "source": [
    "sc.tl.umap(adata)\n",
    "sc.tl.leiden(adata, resolution = 1.2, key_added = \"leiden_1.2\")\n",
    "sc.pl.umap(adata, color=['batch'])"
   ]
  },
  {
   "cell_type": "code",
   "execution_count": null,
   "metadata": {},
   "outputs": [],
   "source": [
    "# in_file=(\"data/processed/Subset_Tcells_BBKNN.h5ad\")\n",
    "# adata=sc.read_h5ad(in_file)"
   ]
  },
  {
   "cell_type": "code",
   "execution_count": null,
   "metadata": {},
   "outputs": [],
   "source": [
    "sc.pl.umap(adata, color=\"batch\", frameon=False, save=\"_batch_afterBBKNN.pdf\")"
   ]
  },
  {
   "cell_type": "code",
   "execution_count": null,
   "metadata": {},
   "outputs": [],
   "source": [
    "sc.tl.leiden(adata, resolution = 0.8, key_added = \"leiden_0.8\")"
   ]
  },
  {
   "cell_type": "code",
   "execution_count": null,
   "metadata": {},
   "outputs": [],
   "source": [
    "sc.pl.umap(adata, color=\"leiden_0.8\")"
   ]
  },
  {
   "cell_type": "code",
   "execution_count": null,
   "metadata": {},
   "outputs": [],
   "source": [
    "sc.tl.leiden(adata, resolution = 1, key_added = \"leiden_1\")"
   ]
  },
  {
   "cell_type": "code",
   "execution_count": null,
   "metadata": {},
   "outputs": [],
   "source": [
    "sc.pl.umap(adata, color=\"leiden_1\", save=\"_leiden_1.png\")"
   ]
  },
  {
   "cell_type": "code",
   "execution_count": null,
   "metadata": {},
   "outputs": [],
   "source": [
    "sc.pl.umap(adata, color=['Cd8a','Cd4','Foxp3','Ncr1','Tigit', 'Pdcd1', 'Tcf7', 'Icos', 'Tox', 'Cd40lg', 'Sell', 'Ncam1', 'Cxcr5', 'Ifng', 'Gata3', 'Bcl6', 'Mki67', \"leiden_0.8\", \"leiden_1\", \"leiden_1.2\"],\n",
    " s=10, color_map='viridis',legend_loc='on data', legend_fontsize='small', wspace=0.3, save=\"_markers_afterBBKNN.pdf\")"
   ]
  },
  {
   "cell_type": "code",
   "execution_count": null,
   "metadata": {},
   "outputs": [],
   "source": [
    "sc.pl.umap(adata, color=\"ReactionID\", frameon=False, save=\"_batch_AfterBBKNN\")"
   ]
  },
  {
   "cell_type": "code",
   "execution_count": null,
   "metadata": {},
   "outputs": [],
   "source": [
    "# sc.tl.leiden(adata, resolution=0.8, key_added = \"leiden_0.8\")"
   ]
  },
  {
   "cell_type": "code",
   "execution_count": null,
   "metadata": {},
   "outputs": [],
   "source": [
    "#this seems a bit too much, and doesm't seperate the cd4 and cd8 positive cluster (cluster 10 at 1.2 res)\n",
    "# sc.tl.leiden(adata, resolution=1.4, key_added = \"leiden_1.4\")"
   ]
  },
  {
   "cell_type": "code",
   "execution_count": null,
   "metadata": {},
   "outputs": [],
   "source": [
    "sc.pl.umap(adata, color=['Cd8a','Cd4','Foxp3','Ncr1','Tigit', 'Pdcd1', 'Tcf7', 'Icos', 'Tox', 'Cd40lg', 'Sell', 'Ncam1', 'Cxcr5', 'Ifng', 'Gata3', 'Bcl6', 'Mki67', 'leiden_1', \"leiden_0.8\", \"leiden_1.2\"],\n",
    " s=10, color_map='viridis',legend_loc='on data', legend_fontsize='small', wspace=0.3, save=\"_markers.png\")"
   ]
  },
  {
   "cell_type": "code",
   "execution_count": null,
   "metadata": {},
   "outputs": [],
   "source": [
    "sc.pl.umap(adata, color=\"batch\")"
   ]
  },
  {
   "cell_type": "code",
   "execution_count": null,
   "metadata": {},
   "outputs": [],
   "source": [
    "sc.pl.umap(adata, color=\"Tissue\")"
   ]
  },
  {
   "cell_type": "code",
   "execution_count": null,
   "metadata": {},
   "outputs": [],
   "source": [
    "def cluster_small_multiples(adata, Tissue, size=60, frameon=False, legend_loc=None, **kwargs):\n",
    "    tmp = adata.copy()\n",
    "    for i,clust in enumerate(adata.obs[Tissue].cat.categories):\n",
    "        tmp.obs[clust] = adata.obs[Tissue].isin([clust]).astype('category')\n",
    "        tmp.uns[clust+'_colors'] = ['#d3d3d3', adata.uns[Tissue+'_colors'][i]]\n",
    "    sc.pl.umap(tmp, groups=tmp.obs[clust].cat.categories[1:].values, color=adata.obs[Tissue].cat.categories.tolist(), size=5, ncols=2, frameon=False, legend_loc=legend_loc, **kwargs)\n",
    "\n",
    "\n",
    "with rc_context({'figure.figsize': (3, 2.5)}):\n",
    "  cluster_small_multiples(adata, 'Tissue')"
   ]
  },
  {
   "cell_type": "code",
   "execution_count": null,
   "metadata": {},
   "outputs": [],
   "source": [
    "adata.write(results_file)"
   ]
  },
  {
   "cell_type": "code",
   "execution_count": null,
   "metadata": {},
   "outputs": [],
   "source": []
  },
  {
   "cell_type": "code",
   "execution_count": null,
   "metadata": {},
   "outputs": [],
   "source": [
    "# ## This is too much\n",
    "\n",
    "# # ridge regression mixes the batches a bit better, and the cofounder key cell_type helps preserve known biological variance\n",
    "# # how to pick the confounder key\n",
    "# # lets pick 0.8 for now, because it splits up the cd8s\n",
    "# bb.ridge_regression(adata, batch_key=['batch'], confounder_key=\"Cell_type\")\n",
    "# sc.pp.pca(adata)\n",
    "# bb.bbknn(adata, batch_key='batch')\n",
    "# sc.tl.umap(adata)\n",
    "# sc.pl.umap(adata, color=['batch','leiden_0.8'])"
   ]
  },
  {
   "cell_type": "code",
   "execution_count": null,
   "metadata": {},
   "outputs": [],
   "source": [
    "# sc.pl.umap(adata, color=\"Cell_type\")"
   ]
  },
  {
   "cell_type": "code",
   "execution_count": null,
   "metadata": {},
   "outputs": [],
   "source": [
    "#sc.pl.umap(adata, color=['leiden_0.8'], frameon=False, size=2)"
   ]
  },
  {
   "cell_type": "code",
   "execution_count": null,
   "metadata": {},
   "outputs": [],
   "source": [
    "# def cluster_small_multiples(adata, Tissue, size=60, frameon=False, legend_loc=None, **kwargs):\n",
    "#     tmp = adata.copy()\n",
    "#     for i,clust in enumerate(adata.obs[Tissue].cat.categories):\n",
    "#         tmp.obs[clust] = adata.obs[Tissue].isin([clust]).astype('category')\n",
    "#         tmp.uns[clust+'_colors'] = ['#d3d3d3', adata.uns[Tissue+'_colors'][i]]\n",
    "#     sc.pl.umap(tmp, groups=tmp.obs[clust].cat.categories[1:].values, color=adata.obs[Tissue].cat.categories.tolist(), size=5, ncols=2, frameon=False, legend_loc=legend_loc, **kwargs)\n",
    "\n",
    "\n",
    "# with rc_context({'figure.figsize': (3, 2.5)}):\n",
    "#   cluster_small_multiples(adata, 'Tissue')"
   ]
  },
  {
   "cell_type": "code",
   "execution_count": null,
   "metadata": {},
   "outputs": [],
   "source": [
    "adata=sc.read_h5ad(results_file)"
   ]
  },
  {
   "cell_type": "code",
   "execution_count": null,
   "metadata": {},
   "outputs": [],
   "source": [
    "######## Now for the markers\n",
    "adata.uns['log1p'][\"base\"] = None\n",
    "sc.tl.rank_genes_groups(adata, groupby='leiden_1', key_added='rank_genes_leiden_1')\n",
    "sc.pl.rank_genes_groups(adata, n_genes=25, sharey=False)"
   ]
  },
  {
   "cell_type": "code",
   "execution_count": null,
   "metadata": {},
   "outputs": [],
   "source": [
    "sc.pl.umap(adata, color='leiden_1', frameon=False, save=\"_leiden_1.png\")"
   ]
  },
  {
   "cell_type": "code",
   "execution_count": null,
   "metadata": {},
   "outputs": [],
   "source": [
    "results = adata.uns['rank_genes_leiden_1']\n",
    "results['names'].dtype.names\n",
    "\n",
    "out = np.array([[0,0,0,0,0]])\n",
    "for group in results['names'].dtype.names:\n",
    "    out = np.vstack((out, np.vstack((results['names'][group],\n",
    "                                     results['scores'][group],\n",
    "                                     results['pvals_adj'][group],\n",
    "                                     results['logfoldchanges'][group],\n",
    "                                     np.array([group] * len(results['names'][group])).astype('object'))).T))"
   ]
  },
  {
   "cell_type": "code",
   "execution_count": null,
   "metadata": {},
   "outputs": [],
   "source": [
    "pd.DataFrame(out).to_csv(tabdir+\"allDEGS_1.csv\")"
   ]
  },
  {
   "cell_type": "code",
   "execution_count": null,
   "metadata": {},
   "outputs": [],
   "source": [
    "markers = pd.DataFrame(out[1:], columns = ['Gene', 'scores', 'pval_adj', 'lfc', 'cluster'])\n",
    "markers = sc.get.rank_genes_groups_df(adata, None)\n",
    "markers = markers[(markers.pvals_adj < 0.05) & (markers.logfoldchanges > .5)]\n",
    "markers\n",
    "\n",
    "markers.to_csv(tabdir+'markers_1.csv')"
   ]
  }
 ],
 "metadata": {
  "kernelspec": {
   "display_name": "Python 3.9.13 ('scanpy')",
   "language": "python",
   "name": "python3"
  },
  "language_info": {
   "codemirror_mode": {
    "name": "ipython",
    "version": 3
   },
   "file_extension": ".py",
   "mimetype": "text/x-python",
   "name": "python",
   "nbconvert_exporter": "python",
   "pygments_lexer": "ipython3",
   "version": "3.9.13"
  },
  "orig_nbformat": 4,
  "vscode": {
   "interpreter": {
    "hash": "7c7f278c8d9bf9351652e64bc3e056cf405fcbe39730c7a3ac9dd70c303fd942"
   }
  }
 },
 "nbformat": 4,
 "nbformat_minor": 2
}
