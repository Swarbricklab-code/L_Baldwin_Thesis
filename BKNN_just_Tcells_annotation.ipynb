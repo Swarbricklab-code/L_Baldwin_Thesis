{
 "cells": [
  {
   "cell_type": "code",
   "execution_count": null,
   "metadata": {},
   "outputs": [],
   "source": [
    "# Script for annotated subsetted bbknn-corrected T cells \n",
    "# By Louise Baldwin\n",
    "# Takes bbknn adjusted T cells .h5ad as input\n"
   ]
  },
  {
   "cell_type": "code",
   "execution_count": null,
   "metadata": {},
   "outputs": [],
   "source": [
    "# Set up\n",
    "###################\n",
    "\n",
    "# import packages\n",
    "import numpy as np\n",
    "import pandas as pd\n",
    "import scanpy as sc\n",
    "import seaborn as sns\n",
    "import os\n",
    "import bbknn as bb\n",
    "# import scvelo as scv\n",
    "import scipy as sp\n",
    "import matplotlib.pyplot as plt\n",
    "from matplotlib.pyplot import rc_context\n",
    "\n",
    "import anndata\n",
    "import joblib\n",
    "import sys\n",
    "\n",
    "from matplotlib import rcParams\n",
    "from numpy import sin\n",
    "from tqdm.auto import tqdm\n",
    "\n",
    "# # directories\n",
    "os.chdir(\"/share/ScratchGeneral/loubal/projects/MSC/mouse-single-cell\")\n",
    "in_file = (\"data/processed/Subset_Tcells_BBKNN.h5ad\")\n",
    "results_file = (\"data/processed/Subset_Tcells_BBKNN_annotated.h5ad\")\n",
    "figdir = (\"outs/BBKNN_after_Tcellsubset/figures/\")\n",
    "tabdir = (\"outs/BBKNN_after_Tcellsubset/tables/\")\n",
    "os.makedirs(figdir, exist_ok=True)\n",
    "os.makedirs(tabdir, exist_ok=True)\n",
    "\n",
    "# set parameters for scanpy\n",
    "# verbosity: errors (0), warnings (1), info (2), hints (3), detailed traceback (4)\n",
    "# change default figdir to desired figdir\n",
    "sc.settings.verbosity = 3           \n",
    "sc.logging.print_header()\n",
    "sc.settings.set_figure_params(dpi=150, facecolor='white')\n",
    "#sc.set_figure_params(facecolor='white', color_map=\"viridis\")\n",
    "#sc.settings.figdir='/share/ScratchGeneral/loubal/projects/MSC/mouse-single-cell/outs/QC/figures/'\n",
    "sc.settings.figdir=figdir\n",
    "# scv.set_figure_params(vector_friendly=False)"
   ]
  },
  {
   "cell_type": "code",
   "execution_count": null,
   "metadata": {},
   "outputs": [],
   "source": [
    "adata=sc.read(in_file)"
   ]
  },
  {
   "cell_type": "code",
   "execution_count": null,
   "metadata": {},
   "outputs": [],
   "source": [
    "adata"
   ]
  },
  {
   "cell_type": "code",
   "execution_count": null,
   "metadata": {},
   "outputs": [],
   "source": [
    "sc.pl.umap(adata, color=\"leiden_1\", frameon=False, save=\"_leiden1.pdf\", size=5)\n",
    "sc.pl.umap(adata, color=\"leiden_1\", frameon=False, save=\"_leiden1_ondata.pdf\", size=5, legend_loc=\"on data\")"
   ]
  },
  {
   "cell_type": "code",
   "execution_count": null,
   "metadata": {},
   "outputs": [],
   "source": [
    "sc.pl.umap(adata, color=['Cd8a','Cd4','Foxp3','Ncr1','Tigit', 'Pdcd1', 'Tcf7', 'Icos', 'Tox', 'Cd40lg', 'Sell', 'Ncam1', 'Cxcr5', 'Ifng', 'Gata3', 'Bcl6', 'Mki67', 'leiden_1'],\n",
    " s=10, color_map='viridis',legend_loc='on data', legend_fontsize='small', wspace=0.3, save=\"_markers_\")"
   ]
  },
  {
   "cell_type": "code",
   "execution_count": null,
   "metadata": {},
   "outputs": [],
   "source": [
    "# sc.pl.heatmap(adata, var_names=['Cd8a','Cd4','Foxp3','Ncr1','Tigit', 'Pdcd1', 'Tcf7', 'Icos', 'Tox', 'Cd40lg', 'Sell', 'Ncam1', 'Cxcr5', 'Ifng', 'Gata3', 'Bcl6', 'Mki67'],\n",
    "#  groupby=\"leiden_1.2\", figsize=[5,20])"
   ]
  },
  {
   "cell_type": "code",
   "execution_count": null,
   "metadata": {},
   "outputs": [],
   "source": [
    "sc.pl.umap(adata, color='leiden_1.2' , legend_loc=\"on data\")"
   ]
  },
  {
   "cell_type": "code",
   "execution_count": null,
   "metadata": {},
   "outputs": [],
   "source": [
    "#Let's try and split cluster 10\n",
    "sc.tl.leiden(adata, restrict_to=('leiden_1', ['10']), key_added='leiden_1_sub10', resolution=0.1)"
   ]
  },
  {
   "cell_type": "code",
   "execution_count": null,
   "metadata": {},
   "outputs": [],
   "source": [
    "sc.pl.umap(adata, color=\"leiden_1_sub10\" )"
   ]
  },
  {
   "cell_type": "code",
   "execution_count": null,
   "metadata": {},
   "outputs": [],
   "source": [
    "sc.pl.umap(adata, color=\"leiden_1_sub10\", legend_loc=\"on data\" )"
   ]
  },
  {
   "cell_type": "code",
   "execution_count": null,
   "metadata": {},
   "outputs": [],
   "source": [
    "#Let's try and split cluster 10\n",
    "sc.tl.leiden(adata, restrict_to=('leiden_1', ['10']), key_added='leiden_1_sub10', resolution=0.1)"
   ]
  },
  {
   "cell_type": "code",
   "execution_count": null,
   "metadata": {},
   "outputs": [],
   "source": [
    "sc.pl.umap(adata, color=\"leiden_1_sub10\", frameon=False)"
   ]
  },
  {
   "cell_type": "code",
   "execution_count": null,
   "metadata": {},
   "outputs": [],
   "source": [
    "sc.tl.leiden(adata, restrict_to=('leiden_1', ['11']), key_added='leiden_1_sub11', resolution=0.2)"
   ]
  },
  {
   "cell_type": "code",
   "execution_count": null,
   "metadata": {},
   "outputs": [],
   "source": [
    "sc.pl.umap(adata, color=\"leiden_1_sub11\", frameon=False)"
   ]
  },
  {
   "cell_type": "code",
   "execution_count": null,
   "metadata": {},
   "outputs": [],
   "source": [
    "# this isnt really sorting it. getting two clusters but not spltting along cd4 and cd8\n",
    "sc.pl.umap(adata, color=['Cd8a','Cd4','Foxp3','Mki67', 'leiden_1_sub11'],\n",
    " s=10, color_map='viridis',legend_loc='on data', legend_fontsize='small', wspace=0.3)#.savefig(sc.settings.figdir/\"markers.png\", bbox_inches='tight')"
   ]
  },
  {
   "cell_type": "code",
   "execution_count": null,
   "metadata": {},
   "outputs": [],
   "source": [
    "adata.uns['log1p'][\"base\"] = None"
   ]
  },
  {
   "cell_type": "code",
   "execution_count": null,
   "metadata": {},
   "outputs": [],
   "source": [
    "#compare 11,1 and 11,0\n",
    "sc.tl.rank_genes_groups(adata, 'leiden_1.2_sub11', groups=['11,1'], reference='11,0', method='wilcoxon')\n",
    "sc.pl.rank_genes_groups(adata, groups=['11,1'], n_genes=20)\n",
    "# returns a lot of hsp genes. "
   ]
  },
  {
   "cell_type": "code",
   "execution_count": null,
   "metadata": {},
   "outputs": [],
   "source": [
    "#lets return attention to sub10 - what are these cells donig and what is the difference between them?\n",
    "sc.pl.umap(adata, color=\"leiden_1.2_sub10\", frameon=False)"
   ]
  },
  {
   "cell_type": "code",
   "execution_count": null,
   "metadata": {},
   "outputs": [],
   "source": [
    "sc.tl.rank_genes_groups(adata, 'leiden_1.2_sub10', groups=['10,1'], reference='10,0', method='wilcoxon')\n",
    "sc.pl.rank_genes_groups(adata, groups=['10,1'], n_genes=20)\n"
   ]
  },
  {
   "cell_type": "code",
   "execution_count": null,
   "metadata": {},
   "outputs": [],
   "source": [
    "# also, what is the differene btween 10,1 and 9?\n",
    "sc.tl.rank_genes_groups(adata, 'leiden_1.2_sub10', groups=['10,1'], reference='9', method='wilcoxon')\n",
    "sc.pl.rank_genes_groups(adata, groups=['10,1'], n_genes=20)"
   ]
  },
  {
   "cell_type": "code",
   "execution_count": null,
   "metadata": {},
   "outputs": [],
   "source": [
    "#compare 8 and 7\n",
    "sc.tl.rank_genes_groups(adata, 'leiden_1.2_sub11', groups=['8'], reference='7', method='wilcoxon')\n",
    "sc.pl.rank_genes_groups(adata, groups=['8'], n_genes=20)"
   ]
  },
  {
   "cell_type": "code",
   "execution_count": null,
   "metadata": {},
   "outputs": [],
   "source": [
    "sc.pl.umap(adata, color=[\"Cd8a\", \"Cd4\", \"Foxp3\", \"Pdcd1\", \"Tigit\", \"Mki67\", \"Gzmb\", \"Gzma\", \"Prf1\", \"leiden_1.2\"])"
   ]
  },
  {
   "cell_type": "code",
   "execution_count": null,
   "metadata": {},
   "outputs": [],
   "source": []
  },
  {
   "cell_type": "code",
   "execution_count": null,
   "metadata": {},
   "outputs": [],
   "source": [
    "sc.tl.rank_genes_groups(adata, 'leiden_1.2', groups=['7'], reference='13', method='wilcoxon')\n",
    "sc.pl.rank_genes_groups(adata, groups=['7'], n_genes=20)"
   ]
  },
  {
   "cell_type": "code",
   "execution_count": null,
   "metadata": {},
   "outputs": [],
   "source": [
    "# is one of the tfh clusters location specific?\n",
    "sc.pl.umap(adata, color=\"Tissue\", frameon=False)"
   ]
  },
  {
   "cell_type": "code",
   "execution_count": null,
   "metadata": {},
   "outputs": [],
   "source": [
    "sc.pl.umap(adata, color=[\"Klrb1\"])"
   ]
  },
  {
   "cell_type": "code",
   "execution_count": null,
   "metadata": {},
   "outputs": [],
   "source": [
    "# create a dictionary to map cluster to annotation label\n",
    "cluster2annotation = {\n",
    "     '0': 'CD4 naive Igfbp4', \n",
    "     '1': 'CD8 naive', \n",
    "     '2': 'CD4 naive Rps',\n",
    "     '3': 'CD8 Ly6c', \n",
    "     '4': 'CD4 Stat1', \n",
    "     '5': 'CD4 naive arhgap15', \n",
    "     '6': 'Tfh', \n",
    "     '7': 'Treg effector',\n",
    "     '8': 'Treg resting',\n",
    "     '9': 'Unknown CD4 CD8', \n",
    "     '10': 'CD8 effector',\n",
    "     '11': 'Mt-high',\n",
    "     '12': 'Cycling',\n",
    "     '13': 'CD8 Isg15',    \n",
    "     '14': 'CD4 memory CD69 ',\n",
    "     '15': 'CD8 Trm', \n",
    "}\n",
    "\n",
    "\n",
    "adata.obs['Tcell_type'] = adata.obs['leiden_1'].map(cluster2annotation).astype('category')\n",
    "\n"
   ]
  },
  {
   "cell_type": "code",
   "execution_count": null,
   "metadata": {},
   "outputs": [],
   "source": [
    "sc.pl.umap(adata, color=\"Tcell_type\", frameon=False, save=\"_Tcell_annotation.png\")"
   ]
  },
  {
   "cell_type": "code",
   "execution_count": null,
   "metadata": {},
   "outputs": [],
   "source": [
    "adata.write(results_file)"
   ]
  },
  {
   "cell_type": "code",
   "execution_count": null,
   "metadata": {},
   "outputs": [],
   "source": [
    "sc.pl.umap(adata, color=\"leiden_1.2\", legend_loc=\"on data\")"
   ]
  },
  {
   "cell_type": "code",
   "execution_count": null,
   "metadata": {},
   "outputs": [],
   "source": [
    "sc.pl.umap(adata, color=[\"Cxcr3\", \"Cxcl9\", \"Cxcl10\", \"Cxcr6\", \"Ly6a\", \"Ly6e\", \"Id3\", \"leiden_1.2\"])"
   ]
  },
  {
   "cell_type": "code",
   "execution_count": null,
   "metadata": {},
   "outputs": [],
   "source": [
    "sc.pl.heatmap(adata, var_names=['Cxcr3', 'Cxcl10', 'Cxcl9'], groupby=\"leiden_1.2\")"
   ]
  },
  {
   "cell_type": "code",
   "execution_count": null,
   "metadata": {},
   "outputs": [],
   "source": [
    "# compare 0 and 4\n",
    "sc.tl.rank_genes_groups(adata, 'leiden_1.2', groups=['0'], reference='4', method='wilcoxon')\n",
    "sc.pl.rank_genes_groups(adata, groups=['0'], n_genes=20)"
   ]
  },
  {
   "cell_type": "code",
   "execution_count": null,
   "metadata": {},
   "outputs": [],
   "source": [
    "def cluster_small_multiples(adata, Tissue, size=60, frameon=False, legend_loc=None, **kwargs):\n",
    "    tmp = adata.copy()\n",
    "    for i,clust in enumerate(adata.obs[Tissue].cat.categories):\n",
    "        tmp.obs[clust] = adata.obs[Tissue].isin([clust]).astype('category')\n",
    "        tmp.uns[clust+'_colors'] = ['#d3d3d3', adata.uns[Tissue+'_colors'][i]]\n",
    "    sc.pl.umap(tmp, groups=tmp.obs[clust].cat.categories[1:].values, color=adata.obs[Tissue].cat.categories.tolist(), size=5, ncols=2, frameon=False, legend_loc=legend_loc, **kwargs)\n",
    "\n",
    "\n",
    "with rc_context({'figure.figsize': (3, 2.5)}):\n",
    "  cluster_small_multiples(adata, 'Tissue')"
   ]
  }
 ],
 "metadata": {
  "kernelspec": {
   "display_name": "Python 3.9.13 ('scanpy')",
   "language": "python",
   "name": "python3"
  },
  "language_info": {
   "codemirror_mode": {
    "name": "ipython",
    "version": 3
   },
   "file_extension": ".py",
   "mimetype": "text/x-python",
   "name": "python",
   "nbconvert_exporter": "python",
   "pygments_lexer": "ipython3",
   "version": "3.9.13"
  },
  "orig_nbformat": 4,
  "vscode": {
   "interpreter": {
    "hash": "7c7f278c8d9bf9351652e64bc3e056cf405fcbe39730c7a3ac9dd70c303fd942"
   }
  }
 },
 "nbformat": 4,
 "nbformat_minor": 2
}
